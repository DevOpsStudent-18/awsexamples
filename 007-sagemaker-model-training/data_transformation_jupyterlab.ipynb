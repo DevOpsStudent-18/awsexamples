{
 "cells": [
  {
   "cell_type": "code",
   "execution_count": 1,
   "id": "64c34e2c-7e4c-48c7-9f0f-47e72834a413",
   "metadata": {
    "execution": {
     "iopub.execute_input": "2025-07-27T17:12:58.548717Z",
     "iopub.status.busy": "2025-07-27T17:12:58.548373Z",
     "iopub.status.idle": "2025-07-27T17:12:58.552899Z",
     "shell.execute_reply": "2025-07-27T17:12:58.552115Z",
     "shell.execute_reply.started": "2025-07-27T17:12:58.548694Z"
    }
   },
   "outputs": [
    {
     "name": "stdout",
     "output_type": "stream",
     "text": [
      "🚀 Starting Data Transformation Pipeline\n",
      "==================================================\n"
     ]
    }
   ],
   "source": [
    "print(\"🚀 Starting Data Transformation Pipeline\")\n",
    "print(\"=\" * 50)"
   ]
  },
  {
   "cell_type": "markdown",
   "id": "91601180-d000-42e2-8982-3cdd41d575f0",
   "metadata": {},
   "source": [
    "# Data Transformation Pipeline for MLOps Using SageMaker Jupyter Notebooks\n",
    "`This notebook demonstrates key data transformation techniques commonly used in machine learning pipelines. It follows MLOps best practices for data preprocessing and feature engineering using AWS SageMaker JupyterLab.`"
   ]
  },
  {
   "cell_type": "markdown",
   "id": "880256bb-d076-4060-adaa-ad2fc830af7d",
   "metadata": {
    "jp-MarkdownHeadingCollapsed": true
   },
   "source": [
    "## 1. Environment Setup and Configuration\n",
    "### 📦 Step 1: Setup Environment"
   ]
  },
  {
   "cell_type": "code",
   "execution_count": 2,
   "id": "e973b107-b357-4dd0-b794-b04a0f3e3c74",
   "metadata": {
    "execution": {
     "iopub.execute_input": "2025-07-27T17:13:00.360217Z",
     "iopub.status.busy": "2025-07-27T17:13:00.359942Z",
     "iopub.status.idle": "2025-07-27T17:13:04.274856Z",
     "shell.execute_reply": "2025-07-27T17:13:04.273997Z",
     "shell.execute_reply.started": "2025-07-27T17:13:00.360196Z"
    }
   },
   "outputs": [
    {
     "name": "stdout",
     "output_type": "stream",
     "text": [
      "sagemaker.config INFO - Not applying SDK defaults from location: /etc/xdg/sagemaker/config.yaml\n",
      "sagemaker.config INFO - Not applying SDK defaults from location: /home/sagemaker-user/.config/sagemaker/config.yaml\n",
      "SageMaker Role: arn:aws:iam::891377300841:role/cfst-4286-a3bb98dd86788b99c4-SageMakerExecutionRole-cN71NiG3F0e1\n",
      "Default Bucket: sagemaker-us-east-1-891377300841\n"
     ]
    }
   ],
   "source": [
    "# 📦 Step 1: Setup Environment\n",
    "import sagemaker\n",
    "import boto3\n",
    "import pandas as pd\n",
    "import os\n",
    "from sagemaker.processing import ProcessingInput, ProcessingOutput, ScriptProcessor\n",
    "import json\n",
    "import numpy as np\n",
    "from datetime import datetime\n",
    "\n",
    "sagemaker_session = sagemaker.Session()\n",
    "role = sagemaker.get_execution_role()\n",
    "bucket = sagemaker_session.default_bucket()\n",
    "region = boto3.Session().region_name\n",
    "\n",
    "print(f\"SageMaker Role: {role}\")\n",
    "print(f\"Default Bucket: {bucket}\")"
   ]
  },
  {
   "cell_type": "markdown",
   "id": "a9baa537-063a-44cd-a4c2-6aa4366a9998",
   "metadata": {
    "jp-MarkdownHeadingCollapsed": true
   },
   "source": [
    "### ⚙️ Step 2: Data Generation\n",
    "Creating a realistic dataset that simulates common data quality challenges found in production environments."
   ]
  },
  {
   "cell_type": "code",
   "execution_count": 3,
   "id": "bb4676e5-804d-4d6e-8781-b03b8092be7b",
   "metadata": {
    "execution": {
     "iopub.execute_input": "2025-07-27T17:13:13.288029Z",
     "iopub.status.busy": "2025-07-27T17:13:13.287752Z",
     "iopub.status.idle": "2025-07-27T17:13:13.618654Z",
     "shell.execute_reply": "2025-07-27T17:13:13.617820Z",
     "shell.execute_reply.started": "2025-07-27T17:13:13.288009Z"
    }
   },
   "outputs": [
    {
     "name": "stdout",
     "output_type": "stream",
     "text": [
      "Dataset created and uploaded to data/mock_data.csv\n"
     ]
    }
   ],
   "source": [
    "import pandas as pd\n",
    "import numpy as np\n",
    "import json\n",
    "import random\n",
    "from datetime import datetime, timedelta\n",
    "import os\n",
    "\n",
    "# Set random seed for reproducibility\n",
    "np.random.seed(42)\n",
    "\n",
    "# Number of records\n",
    "num_records = 20000\n",
    "\n",
    "# Generate random data\n",
    "data = {\n",
    "    \"id\": np.arange(1, num_records + 1),\n",
    "    \"name\": [f\"Name_{i}\" for i in np.random.randint(1, 1000, num_records)],\n",
    "    \"age\": np.random.randint(18, 80, num_records),\n",
    "    \"salary\": np.random.choice([50000, 60000, 70000, None], num_records),\n",
    "    \"hire_date\": [\n",
    "        (datetime.now() - timedelta(days=random.randint(0, 3650))).strftime(\"%Y-%m-%d\")\n",
    "        if random.random() > 0.1 else None\n",
    "        for _ in range(num_records)\n",
    "    ],\n",
    "    \"profile\": [\n",
    "        json.dumps({\n",
    "            \"address\": f\"Street {random.randint(1, 100)}, City {random.randint(1, 50)}\",\n",
    "            \"phone\": f\"{random.randint(1000000000, 9999999999)}\",\n",
    "            \"email\": f\"email_{random.randint(1, 1000)}@example.com\"\n",
    "        })\n",
    "        if random.random() > 0.1 else None\n",
    "        for _ in range(num_records)\n",
    "    ],\n",
    "    \"department\": np.random.choice([\"HR\", \"IT\", \"Finance\", \"Marketing\", None], num_records),\n",
    "    \"bonus\": [None if random.random() > 0.9 else random.randint(1000, 10000) for _ in range(num_records)]\n",
    "}\n",
    "\n",
    "# Create DataFrame\n",
    "df = pd.DataFrame(data)\n",
    "\n",
    "# Introduce some NaN values randomly\n",
    "df.loc[np.random.choice(df.index, size=int(num_records * 0.05), replace=False), \"age\"] = np.nan\n",
    "df.loc[np.random.choice(df.index, size=int(num_records * 0.1), replace=False), \"salary\"] = np.nan\n",
    "\n",
    "# Ensure 'data' folder exists\n",
    "os.makedirs(\"data\", exist_ok=True)\n",
    "\n",
    "# Save to CSV\n",
    "df.to_csv(\"data/mock_data.csv\", index=False)\n",
    "print(\"Dataset created and uploaded to data/mock_data.csv\")"
   ]
  },
  {
   "cell_type": "markdown",
   "id": "f17d5e28-a7dc-40f4-8767-6ad631e3e17d",
   "metadata": {},
   "source": [
    "### ⚙️ Step 3: Upload Source Data to S3\n",
    "Upload the source CSV dataset to input location in S3 (default bucket)  "
   ]
  },
  {
   "cell_type": "code",
   "execution_count": 4,
   "id": "cbbf0e65-caee-417a-bddc-f8533c6c613c",
   "metadata": {
    "execution": {
     "iopub.execute_input": "2025-07-27T17:14:30.841744Z",
     "iopub.status.busy": "2025-07-27T17:14:30.841011Z",
     "iopub.status.idle": "2025-07-27T17:14:31.088360Z",
     "shell.execute_reply": "2025-07-27T17:14:31.087636Z",
     "shell.execute_reply.started": "2025-07-27T17:14:30.841715Z"
    }
   },
   "outputs": [
    {
     "name": "stdout",
     "output_type": "stream",
     "text": [
      "Dataset 'mock_data.csv' uploaded to: s3://sagemaker-us-east-1-891377300841/input/mock_data.csv\n"
     ]
    }
   ],
   "source": [
    "s3 = boto3.resource('s3')\n",
    "s3.meta.client.upload_file('data/mock_data.csv', bucket, 'input/mock_data.csv')\n",
    "print(f\"Dataset 'mock_data.csv' uploaded to: s3://{bucket}/input/mock_data.csv\")"
   ]
  },
  {
   "cell_type": "markdown",
   "id": "0781eaf7-4980-43c7-8608-746ad3666a94",
   "metadata": {
    "jp-MarkdownHeadingCollapsed": true
   },
   "source": [
    "## 2. Data Exploration  \n",
    "Load the raw dataset and perform initial data profiling. \n",
    "This step is crucial for understanding data quality and structure. \n",
    "\n",
    "### Step 1: Load the CSV File from S3 into the DataFrame"
   ]
  },
  {
   "cell_type": "code",
   "execution_count": 5,
   "id": "d23bb077-5661-4295-8e50-9c99e735cd11",
   "metadata": {
    "execution": {
     "iopub.execute_input": "2025-07-27T17:14:36.719856Z",
     "iopub.status.busy": "2025-07-27T17:14:36.719260Z",
     "iopub.status.idle": "2025-07-27T17:14:37.234302Z",
     "shell.execute_reply": "2025-07-27T17:14:37.233421Z",
     "shell.execute_reply.started": "2025-07-27T17:14:36.719831Z"
    }
   },
   "outputs": [
    {
     "name": "stdout",
     "output_type": "stream",
     "text": [
      "✅ Dataset loaded successfully!\n",
      "📏 Dataset shape: (20000, 8)\n"
     ]
    }
   ],
   "source": [
    "try:\n",
    "    df = pd.read_csv(f's3://{bucket}/input/mock_data.csv')\n",
    "    print(f\"✅ Dataset loaded successfully!\")\n",
    "    print(f\"📏 Dataset shape: {df.shape}\")\n",
    "except FileNotFoundError:\n",
    "    print(\"❌ Error: mock_data.csv not found. Please run create_dataset.py first.\")\n",
    "    exit()"
   ]
  },
  {
   "cell_type": "markdown",
   "id": "bb43e7b6-38aa-4919-8b13-17e228bdb968",
   "metadata": {},
   "source": [
    "### Step 2: Analyse the Data  \n",
    "Perform comprehensive data analysis to understand:\n",
    "- Data types and memory usage\n",
    "- Missing values pattern\n",
    "- Statistical distribution\n",
    "- Unique values and categories"
   ]
  },
  {
   "cell_type": "code",
   "execution_count": 6,
   "id": "34776ea8-2b8e-4561-b63d-277229f87b3d",
   "metadata": {
    "execution": {
     "iopub.execute_input": "2025-07-27T17:14:39.152294Z",
     "iopub.status.busy": "2025-07-27T17:14:39.151556Z",
     "iopub.status.idle": "2025-07-27T17:14:39.171921Z",
     "shell.execute_reply": "2025-07-27T17:14:39.171112Z",
     "shell.execute_reply.started": "2025-07-27T17:14:39.152263Z"
    }
   },
   "outputs": [
    {
     "name": "stdout",
     "output_type": "stream",
     "text": [
      "\n",
      "📋 First 5 rows:\n"
     ]
    },
    {
     "data": {
      "text/html": [
       "<div>\n",
       "<style scoped>\n",
       "    .dataframe tbody tr th:only-of-type {\n",
       "        vertical-align: middle;\n",
       "    }\n",
       "\n",
       "    .dataframe tbody tr th {\n",
       "        vertical-align: top;\n",
       "    }\n",
       "\n",
       "    .dataframe thead th {\n",
       "        text-align: right;\n",
       "    }\n",
       "</style>\n",
       "<table border=\"1\" class=\"dataframe\">\n",
       "  <thead>\n",
       "    <tr style=\"text-align: right;\">\n",
       "      <th></th>\n",
       "      <th>id</th>\n",
       "      <th>name</th>\n",
       "      <th>age</th>\n",
       "      <th>salary</th>\n",
       "      <th>hire_date</th>\n",
       "      <th>profile</th>\n",
       "      <th>department</th>\n",
       "      <th>bonus</th>\n",
       "    </tr>\n",
       "  </thead>\n",
       "  <tbody>\n",
       "    <tr>\n",
       "      <th>0</th>\n",
       "      <td>1</td>\n",
       "      <td>Name_103</td>\n",
       "      <td>77.0</td>\n",
       "      <td>60000.0</td>\n",
       "      <td>2016-11-20</td>\n",
       "      <td>{\"address\": \"Street 29, City 39\", \"phone\": \"84...</td>\n",
       "      <td>Marketing</td>\n",
       "      <td>2904.0</td>\n",
       "    </tr>\n",
       "    <tr>\n",
       "      <th>1</th>\n",
       "      <td>2</td>\n",
       "      <td>Name_436</td>\n",
       "      <td>62.0</td>\n",
       "      <td>50000.0</td>\n",
       "      <td>2016-03-29</td>\n",
       "      <td>{\"address\": \"Street 89, City 38\", \"phone\": \"98...</td>\n",
       "      <td>Marketing</td>\n",
       "      <td>6333.0</td>\n",
       "    </tr>\n",
       "    <tr>\n",
       "      <th>2</th>\n",
       "      <td>3</td>\n",
       "      <td>Name_861</td>\n",
       "      <td>61.0</td>\n",
       "      <td>60000.0</td>\n",
       "      <td>2022-04-09</td>\n",
       "      <td>{\"address\": \"Street 29, City 3\", \"phone\": \"942...</td>\n",
       "      <td>HR</td>\n",
       "      <td>3831.0</td>\n",
       "    </tr>\n",
       "    <tr>\n",
       "      <th>3</th>\n",
       "      <td>4</td>\n",
       "      <td>Name_271</td>\n",
       "      <td>36.0</td>\n",
       "      <td>70000.0</td>\n",
       "      <td>2020-10-09</td>\n",
       "      <td>{\"address\": \"Street 92, City 42\", \"phone\": \"77...</td>\n",
       "      <td>NaN</td>\n",
       "      <td>NaN</td>\n",
       "    </tr>\n",
       "    <tr>\n",
       "      <th>4</th>\n",
       "      <td>5</td>\n",
       "      <td>Name_107</td>\n",
       "      <td>78.0</td>\n",
       "      <td>60000.0</td>\n",
       "      <td>NaN</td>\n",
       "      <td>{\"address\": \"Street 47, City 11\", \"phone\": \"53...</td>\n",
       "      <td>IT</td>\n",
       "      <td>1319.0</td>\n",
       "    </tr>\n",
       "  </tbody>\n",
       "</table>\n",
       "</div>"
      ],
      "text/plain": [
       "   id      name   age   salary   hire_date  \\\n",
       "0   1  Name_103  77.0  60000.0  2016-11-20   \n",
       "1   2  Name_436  62.0  50000.0  2016-03-29   \n",
       "2   3  Name_861  61.0  60000.0  2022-04-09   \n",
       "3   4  Name_271  36.0  70000.0  2020-10-09   \n",
       "4   5  Name_107  78.0  60000.0         NaN   \n",
       "\n",
       "                                             profile department   bonus  \n",
       "0  {\"address\": \"Street 29, City 39\", \"phone\": \"84...  Marketing  2904.0  \n",
       "1  {\"address\": \"Street 89, City 38\", \"phone\": \"98...  Marketing  6333.0  \n",
       "2  {\"address\": \"Street 29, City 3\", \"phone\": \"942...         HR  3831.0  \n",
       "3  {\"address\": \"Street 92, City 42\", \"phone\": \"77...        NaN     NaN  \n",
       "4  {\"address\": \"Street 47, City 11\", \"phone\": \"53...         IT  1319.0  "
      ]
     },
     "execution_count": 6,
     "metadata": {},
     "output_type": "execute_result"
    }
   ],
   "source": [
    "# Display the first 5 rows from the loaded DataFrame\n",
    "print(\"\\n📋 First 5 rows:\")\n",
    "df.head()"
   ]
  },
  {
   "cell_type": "code",
   "execution_count": 7,
   "id": "0de2652a-52a8-4ba6-97df-457a332f3cd1",
   "metadata": {
    "execution": {
     "iopub.execute_input": "2025-07-27T17:14:41.155995Z",
     "iopub.status.busy": "2025-07-27T17:14:41.155704Z",
     "iopub.status.idle": "2025-07-27T17:14:41.176171Z",
     "shell.execute_reply": "2025-07-27T17:14:41.175446Z",
     "shell.execute_reply.started": "2025-07-27T17:14:41.155975Z"
    }
   },
   "outputs": [
    {
     "name": "stdout",
     "output_type": "stream",
     "text": [
      "\n",
      "📊 Data Types & Non-Null Counts:\n",
      "\n",
      "<class 'pandas.core.frame.DataFrame'>\n",
      "RangeIndex: 20000 entries, 0 to 19999\n",
      "Data columns (total 8 columns):\n",
      " #   Column      Non-Null Count  Dtype  \n",
      "---  ------      --------------  -----  \n",
      " 0   id          20000 non-null  int64  \n",
      " 1   name        20000 non-null  object \n",
      " 2   age         19000 non-null  float64\n",
      " 3   salary      13519 non-null  float64\n",
      " 4   hire_date   17985 non-null  object \n",
      " 5   profile     17923 non-null  object \n",
      " 6   department  16003 non-null  object \n",
      " 7   bonus       17959 non-null  float64\n",
      "dtypes: float64(3), int64(1), object(4)\n",
      "memory usage: 1.2+ MB\n"
     ]
    }
   ],
   "source": [
    "# Get the summary of the DataFrame\n",
    "print(\"\\n📊 Data Types & Non-Null Counts:\\n\")\n",
    "df.info()"
   ]
  },
  {
   "cell_type": "code",
   "execution_count": 8,
   "id": "ab79f216-1000-4333-9310-944de2d8f498",
   "metadata": {
    "execution": {
     "iopub.execute_input": "2025-07-27T17:14:42.974955Z",
     "iopub.status.busy": "2025-07-27T17:14:42.974679Z",
     "iopub.status.idle": "2025-07-27T17:14:42.991911Z",
     "shell.execute_reply": "2025-07-27T17:14:42.991169Z",
     "shell.execute_reply.started": "2025-07-27T17:14:42.974935Z"
    }
   },
   "outputs": [
    {
     "name": "stdout",
     "output_type": "stream",
     "text": [
      "\n",
      "🔄 Duplicate rows: 0\n"
     ]
    }
   ],
   "source": [
    "# Check for duplicate rows\n",
    "duplicates = df.duplicated().sum()\n",
    "print(f\"\\n🔄 Duplicate rows: {duplicates}\")"
   ]
  },
  {
   "cell_type": "code",
   "execution_count": 9,
   "id": "5d2ee607-aeae-4087-81ab-3e5da46f4346",
   "metadata": {
    "execution": {
     "iopub.execute_input": "2025-07-27T17:14:44.806503Z",
     "iopub.status.busy": "2025-07-27T17:14:44.805861Z",
     "iopub.status.idle": "2025-07-27T17:14:44.812134Z",
     "shell.execute_reply": "2025-07-27T17:14:44.811315Z",
     "shell.execute_reply.started": "2025-07-27T17:14:44.806475Z"
    }
   },
   "outputs": [
    {
     "data": {
      "text/plain": [
       "array(['Marketing', 'HR', nan, 'IT', 'Finance'], dtype=object)"
      ]
     },
     "execution_count": 9,
     "metadata": {},
     "output_type": "execute_result"
    }
   ],
   "source": [
    "# Check unique values in the department column\n",
    "df['department'].unique()"
   ]
  },
  {
   "cell_type": "code",
   "execution_count": 10,
   "id": "d26686b8-70c2-4419-87ad-c5bde83cced9",
   "metadata": {
    "execution": {
     "iopub.execute_input": "2025-07-27T17:14:46.634892Z",
     "iopub.status.busy": "2025-07-27T17:14:46.634182Z",
     "iopub.status.idle": "2025-07-27T17:14:46.682726Z",
     "shell.execute_reply": "2025-07-27T17:14:46.681991Z",
     "shell.execute_reply.started": "2025-07-27T17:14:46.634862Z"
    },
    "scrolled": true
   },
   "outputs": [
    {
     "name": "stdout",
     "output_type": "stream",
     "text": [
      "\n",
      "📈 Statistical Summary:\n"
     ]
    },
    {
     "data": {
      "text/html": [
       "<div>\n",
       "<style scoped>\n",
       "    .dataframe tbody tr th:only-of-type {\n",
       "        vertical-align: middle;\n",
       "    }\n",
       "\n",
       "    .dataframe tbody tr th {\n",
       "        vertical-align: top;\n",
       "    }\n",
       "\n",
       "    .dataframe thead th {\n",
       "        text-align: right;\n",
       "    }\n",
       "</style>\n",
       "<table border=\"1\" class=\"dataframe\">\n",
       "  <thead>\n",
       "    <tr style=\"text-align: right;\">\n",
       "      <th></th>\n",
       "      <th>id</th>\n",
       "      <th>name</th>\n",
       "      <th>age</th>\n",
       "      <th>salary</th>\n",
       "      <th>hire_date</th>\n",
       "      <th>profile</th>\n",
       "      <th>department</th>\n",
       "      <th>bonus</th>\n",
       "    </tr>\n",
       "  </thead>\n",
       "  <tbody>\n",
       "    <tr>\n",
       "      <th>count</th>\n",
       "      <td>20000.000000</td>\n",
       "      <td>20000</td>\n",
       "      <td>19000.000000</td>\n",
       "      <td>13519.000000</td>\n",
       "      <td>17985</td>\n",
       "      <td>17923</td>\n",
       "      <td>16003</td>\n",
       "      <td>17959.000000</td>\n",
       "    </tr>\n",
       "    <tr>\n",
       "      <th>unique</th>\n",
       "      <td>NaN</td>\n",
       "      <td>999</td>\n",
       "      <td>NaN</td>\n",
       "      <td>NaN</td>\n",
       "      <td>3624</td>\n",
       "      <td>17923</td>\n",
       "      <td>4</td>\n",
       "      <td>NaN</td>\n",
       "    </tr>\n",
       "    <tr>\n",
       "      <th>top</th>\n",
       "      <td>NaN</td>\n",
       "      <td>Name_825</td>\n",
       "      <td>NaN</td>\n",
       "      <td>NaN</td>\n",
       "      <td>2019-08-15</td>\n",
       "      <td>{\"address\": \"Street 57, City 50\", \"phone\": \"93...</td>\n",
       "      <td>IT</td>\n",
       "      <td>NaN</td>\n",
       "    </tr>\n",
       "    <tr>\n",
       "      <th>freq</th>\n",
       "      <td>NaN</td>\n",
       "      <td>37</td>\n",
       "      <td>NaN</td>\n",
       "      <td>NaN</td>\n",
       "      <td>13</td>\n",
       "      <td>1</td>\n",
       "      <td>4058</td>\n",
       "      <td>NaN</td>\n",
       "    </tr>\n",
       "    <tr>\n",
       "      <th>mean</th>\n",
       "      <td>10000.500000</td>\n",
       "      <td>NaN</td>\n",
       "      <td>48.444684</td>\n",
       "      <td>59962.275316</td>\n",
       "      <td>NaN</td>\n",
       "      <td>NaN</td>\n",
       "      <td>NaN</td>\n",
       "      <td>5476.615959</td>\n",
       "    </tr>\n",
       "    <tr>\n",
       "      <th>std</th>\n",
       "      <td>5773.647028</td>\n",
       "      <td>NaN</td>\n",
       "      <td>17.892848</td>\n",
       "      <td>8200.588356</td>\n",
       "      <td>NaN</td>\n",
       "      <td>NaN</td>\n",
       "      <td>NaN</td>\n",
       "      <td>2615.608233</td>\n",
       "    </tr>\n",
       "    <tr>\n",
       "      <th>min</th>\n",
       "      <td>1.000000</td>\n",
       "      <td>NaN</td>\n",
       "      <td>18.000000</td>\n",
       "      <td>50000.000000</td>\n",
       "      <td>NaN</td>\n",
       "      <td>NaN</td>\n",
       "      <td>NaN</td>\n",
       "      <td>1000.000000</td>\n",
       "    </tr>\n",
       "    <tr>\n",
       "      <th>25%</th>\n",
       "      <td>5000.750000</td>\n",
       "      <td>NaN</td>\n",
       "      <td>33.000000</td>\n",
       "      <td>50000.000000</td>\n",
       "      <td>NaN</td>\n",
       "      <td>NaN</td>\n",
       "      <td>NaN</td>\n",
       "      <td>3188.500000</td>\n",
       "    </tr>\n",
       "    <tr>\n",
       "      <th>50%</th>\n",
       "      <td>10000.500000</td>\n",
       "      <td>NaN</td>\n",
       "      <td>48.000000</td>\n",
       "      <td>60000.000000</td>\n",
       "      <td>NaN</td>\n",
       "      <td>NaN</td>\n",
       "      <td>NaN</td>\n",
       "      <td>5486.000000</td>\n",
       "    </tr>\n",
       "    <tr>\n",
       "      <th>75%</th>\n",
       "      <td>15000.250000</td>\n",
       "      <td>NaN</td>\n",
       "      <td>64.000000</td>\n",
       "      <td>70000.000000</td>\n",
       "      <td>NaN</td>\n",
       "      <td>NaN</td>\n",
       "      <td>NaN</td>\n",
       "      <td>7736.000000</td>\n",
       "    </tr>\n",
       "    <tr>\n",
       "      <th>max</th>\n",
       "      <td>20000.000000</td>\n",
       "      <td>NaN</td>\n",
       "      <td>79.000000</td>\n",
       "      <td>70000.000000</td>\n",
       "      <td>NaN</td>\n",
       "      <td>NaN</td>\n",
       "      <td>NaN</td>\n",
       "      <td>10000.000000</td>\n",
       "    </tr>\n",
       "  </tbody>\n",
       "</table>\n",
       "</div>"
      ],
      "text/plain": [
       "                  id      name           age        salary   hire_date  \\\n",
       "count   20000.000000     20000  19000.000000  13519.000000       17985   \n",
       "unique           NaN       999           NaN           NaN        3624   \n",
       "top              NaN  Name_825           NaN           NaN  2019-08-15   \n",
       "freq             NaN        37           NaN           NaN          13   \n",
       "mean    10000.500000       NaN     48.444684  59962.275316         NaN   \n",
       "std      5773.647028       NaN     17.892848   8200.588356         NaN   \n",
       "min         1.000000       NaN     18.000000  50000.000000         NaN   \n",
       "25%      5000.750000       NaN     33.000000  50000.000000         NaN   \n",
       "50%     10000.500000       NaN     48.000000  60000.000000         NaN   \n",
       "75%     15000.250000       NaN     64.000000  70000.000000         NaN   \n",
       "max     20000.000000       NaN     79.000000  70000.000000         NaN   \n",
       "\n",
       "                                                  profile department  \\\n",
       "count                                               17923      16003   \n",
       "unique                                              17923          4   \n",
       "top     {\"address\": \"Street 57, City 50\", \"phone\": \"93...         IT   \n",
       "freq                                                    1       4058   \n",
       "mean                                                  NaN        NaN   \n",
       "std                                                   NaN        NaN   \n",
       "min                                                   NaN        NaN   \n",
       "25%                                                   NaN        NaN   \n",
       "50%                                                   NaN        NaN   \n",
       "75%                                                   NaN        NaN   \n",
       "max                                                   NaN        NaN   \n",
       "\n",
       "               bonus  \n",
       "count   17959.000000  \n",
       "unique           NaN  \n",
       "top              NaN  \n",
       "freq             NaN  \n",
       "mean     5476.615959  \n",
       "std      2615.608233  \n",
       "min      1000.000000  \n",
       "25%      3188.500000  \n",
       "50%      5486.000000  \n",
       "75%      7736.000000  \n",
       "max     10000.000000  "
      ]
     },
     "execution_count": 10,
     "metadata": {},
     "output_type": "execute_result"
    }
   ],
   "source": [
    "# View statistical summary for numeric coloums\n",
    "print(\"\\n📈 Statistical Summary:\")\n",
    "df.describe(include='all')"
   ]
  },
  {
   "cell_type": "code",
   "execution_count": 11,
   "id": "ff0fa73b-9bea-4d43-acda-d21a38b7e443",
   "metadata": {
    "execution": {
     "iopub.execute_input": "2025-07-27T17:14:51.221551Z",
     "iopub.status.busy": "2025-07-27T17:14:51.221168Z",
     "iopub.status.idle": "2025-07-27T17:14:51.232603Z",
     "shell.execute_reply": "2025-07-27T17:14:51.232007Z",
     "shell.execute_reply.started": "2025-07-27T17:14:51.221527Z"
    }
   },
   "outputs": [
    {
     "name": "stdout",
     "output_type": "stream",
     "text": [
      "\n",
      "❓ Missing Values Analysis:\n",
      "\n"
     ]
    },
    {
     "data": {
      "text/plain": [
       "id               0\n",
       "name             0\n",
       "age           1000\n",
       "salary        6481\n",
       "hire_date     2015\n",
       "profile       2077\n",
       "department    3997\n",
       "bonus         2041\n",
       "dtype: int64"
      ]
     },
     "execution_count": 11,
     "metadata": {},
     "output_type": "execute_result"
    }
   ],
   "source": [
    "# Check for missing values\n",
    "print(\"\\n❓ Missing Values Analysis:\\n\")\n",
    "df.isnull().sum()"
   ]
  },
  {
   "cell_type": "markdown",
   "id": "199ccc74-4242-4579-8b83-d7a537e082b5",
   "metadata": {},
   "source": [
    "## 🧹 3. Data Cleaning & Quality Improvement"
   ]
  },
  {
   "cell_type": "markdown",
   "id": "c5fa6405-cbaa-4291-810f-ccb99aedbd6d",
   "metadata": {
    "jp-MarkdownHeadingCollapsed": true
   },
   "source": [
    "### Step 1: Handle Missing values of age, and salary\n",
    "Handle missing values in age and salary columns using appropriate strategies:\n",
    "- For age: Use median (robust to outliers)\n",
    "- For salary: Use median (robust to outliers)"
   ]
  },
  {
   "cell_type": "code",
   "execution_count": 12,
   "id": "53b49db1-ac54-410b-9092-534ea82cec0d",
   "metadata": {
    "execution": {
     "iopub.execute_input": "2025-07-27T17:14:54.849320Z",
     "iopub.status.busy": "2025-07-27T17:14:54.848815Z",
     "iopub.status.idle": "2025-07-27T17:14:54.858212Z",
     "shell.execute_reply": "2025-07-27T17:14:54.857488Z",
     "shell.execute_reply.started": "2025-07-27T17:14:54.849293Z"
    }
   },
   "outputs": [
    {
     "name": "stdout",
     "output_type": "stream",
     "text": [
      "\n",
      "📊 Missing Value Patterns:\n",
      "Missing Age values:\n",
      "       age   salary department\n",
      "44     NaN  60000.0  Marketing\n",
      "115    NaN  60000.0         IT\n",
      "127    NaN      NaN  Marketing\n",
      "147    NaN  60000.0         HR\n",
      "164    NaN  70000.0         IT\n",
      "...    ...      ...        ...\n",
      "19872  NaN  60000.0         HR\n",
      "19921  NaN      NaN         HR\n",
      "19940  NaN  70000.0        NaN\n",
      "19997  NaN  60000.0         IT\n",
      "19998  NaN  60000.0  Marketing\n",
      "\n",
      "[1000 rows x 3 columns]\n"
     ]
    }
   ],
   "source": [
    "# Analyze missing patterns\n",
    "print(\"\\n📊 Missing Value Patterns:\")\n",
    "print(\"Missing Age values:\")\n",
    "print(df[df['age'].isnull()][['age', 'salary', 'department']])"
   ]
  },
  {
   "cell_type": "code",
   "execution_count": 13,
   "id": "6b91f6e6-b8a0-4528-8009-dbae08ae21f1",
   "metadata": {
    "execution": {
     "iopub.execute_input": "2025-07-27T17:14:56.787732Z",
     "iopub.status.busy": "2025-07-27T17:14:56.787378Z",
     "iopub.status.idle": "2025-07-27T17:14:56.796381Z",
     "shell.execute_reply": "2025-07-27T17:14:56.795719Z",
     "shell.execute_reply.started": "2025-07-27T17:14:56.787710Z"
    }
   },
   "outputs": [
    {
     "name": "stdout",
     "output_type": "stream",
     "text": [
      "Missing Salary values\n",
      "        age  salary department\n",
      "5      35.0     NaN         IT\n",
      "11     61.0     NaN         IT\n",
      "13     46.0     NaN        NaN\n",
      "14     48.0     NaN         IT\n",
      "15     61.0     NaN         HR\n",
      "...     ...     ...        ...\n",
      "19984  71.0     NaN        NaN\n",
      "19988  72.0     NaN  Marketing\n",
      "19992  60.0     NaN        NaN\n",
      "19993  76.0     NaN  Marketing\n",
      "19999  47.0     NaN        NaN\n",
      "\n",
      "[6481 rows x 3 columns]\n"
     ]
    }
   ],
   "source": [
    "print(\"Missing Salary values\")\n",
    "print(df[df['salary'].isnull()][['age', 'salary', 'department']])"
   ]
  },
  {
   "cell_type": "code",
   "execution_count": 14,
   "id": "12df9538-38f3-42d2-a62e-08e5ba0af6c7",
   "metadata": {
    "execution": {
     "iopub.execute_input": "2025-07-27T17:14:58.558992Z",
     "iopub.status.busy": "2025-07-27T17:14:58.558579Z",
     "iopub.status.idle": "2025-07-27T17:14:58.566065Z",
     "shell.execute_reply": "2025-07-27T17:14:58.565049Z",
     "shell.execute_reply.started": "2025-07-27T17:14:58.558969Z"
    }
   },
   "outputs": [
    {
     "name": "stdout",
     "output_type": "stream",
     "text": [
      "Age Median 48.0\n",
      "Salary Median 60000.0\n"
     ]
    }
   ],
   "source": [
    "# Get the median values for age, and salary\n",
    "age_median = df['age'].median()\n",
    "salary_median = df['salary'].median()\n",
    "print(\"Age Median\", age_median)\n",
    "print(\"Salary Median\", salary_median)"
   ]
  },
  {
   "cell_type": "code",
   "execution_count": 15,
   "id": "c2bc0570-6fc5-464c-81d8-a02a3adba273",
   "metadata": {
    "execution": {
     "iopub.execute_input": "2025-07-27T17:15:00.672515Z",
     "iopub.status.busy": "2025-07-27T17:15:00.671871Z",
     "iopub.status.idle": "2025-07-27T17:15:00.678471Z",
     "shell.execute_reply": "2025-07-27T17:15:00.677548Z",
     "shell.execute_reply.started": "2025-07-27T17:15:00.672487Z"
    }
   },
   "outputs": [],
   "source": [
    "# Fill missing values of age with age_median\n",
    "df['age'] = df['age'].fillna(age_median)\n",
    "# Fill missing values of salary with salary_median\n",
    "df['salary'] = df['salary'].fillna(salary_median)"
   ]
  },
  {
   "cell_type": "markdown",
   "id": "f02fb165-2329-462f-a31e-95c68398c2bd",
   "metadata": {},
   "source": [
    "#### Age & Salary columns missing values are filled with the respective median"
   ]
  },
  {
   "cell_type": "code",
   "execution_count": 16,
   "id": "b85aacbe-1f52-4c17-8e8f-6ad235eb3c94",
   "metadata": {
    "execution": {
     "iopub.execute_input": "2025-07-27T17:15:04.133308Z",
     "iopub.status.busy": "2025-07-27T17:15:04.132568Z",
     "iopub.status.idle": "2025-07-27T17:15:04.146333Z",
     "shell.execute_reply": "2025-07-27T17:15:04.145634Z",
     "shell.execute_reply.started": "2025-07-27T17:15:04.133284Z"
    }
   },
   "outputs": [
    {
     "name": "stdout",
     "output_type": "stream",
     "text": [
      "Missing values in each column\n"
     ]
    },
    {
     "data": {
      "text/plain": [
       "id               0\n",
       "name             0\n",
       "age              0\n",
       "salary           0\n",
       "hire_date     2015\n",
       "profile       2077\n",
       "department    3997\n",
       "bonus         2041\n",
       "dtype: int64"
      ]
     },
     "execution_count": 16,
     "metadata": {},
     "output_type": "execute_result"
    }
   ],
   "source": [
    "# Verify the Age & Salary data\n",
    "df.head()\n",
    "# Check for missing values\n",
    "print(\"Missing values in each column\")\n",
    "df.isnull().sum()"
   ]
  },
  {
   "cell_type": "markdown",
   "id": "c6c09aa2-0bc1-473f-8c76-f19774a5d739",
   "metadata": {
    "jp-MarkdownHeadingCollapsed": true
   },
   "source": [
    "### Step 2: Handle Missing values of Department\n",
    "Handle missing values in categorical columns:\n",
    "- For department: Use 'Unknown' category\n",
    "- This preserves the information that the department was missing"
   ]
  },
  {
   "cell_type": "code",
   "execution_count": 17,
   "id": "47976d92-55aa-47c2-9ff7-6a4e17c63130",
   "metadata": {
    "execution": {
     "iopub.execute_input": "2025-07-27T17:15:08.505059Z",
     "iopub.status.busy": "2025-07-27T17:15:08.504762Z",
     "iopub.status.idle": "2025-07-27T17:15:08.516540Z",
     "shell.execute_reply": "2025-07-27T17:15:08.515821Z",
     "shell.execute_reply.started": "2025-07-27T17:15:08.505039Z"
    }
   },
   "outputs": [
    {
     "name": "stdout",
     "output_type": "stream",
     "text": [
      "Print the missing values for Department\n",
      "\n",
      "Missing Department Missing values\n",
      "        age   salary department\n",
      "3      36.0  70000.0        NaN\n",
      "13     46.0  60000.0        NaN\n",
      "49     34.0  50000.0        NaN\n",
      "53     33.0  60000.0        NaN\n",
      "57     28.0  70000.0        NaN\n",
      "...     ...      ...        ...\n",
      "19973  50.0  60000.0        NaN\n",
      "19975  29.0  60000.0        NaN\n",
      "19984  71.0  60000.0        NaN\n",
      "19992  60.0  60000.0        NaN\n",
      "19999  47.0  60000.0        NaN\n",
      "\n",
      "[3997 rows x 3 columns]\n"
     ]
    }
   ],
   "source": [
    "print(\"Print the missing values for Department\\n\")\n",
    "print(\"Missing Department Missing values\")\n",
    "print(df[df['department'].isnull()][['age', 'salary', 'department']])"
   ]
  },
  {
   "cell_type": "code",
   "execution_count": 18,
   "id": "74e3c4fe-2eff-4254-afc8-72f131d1337a",
   "metadata": {
    "execution": {
     "iopub.execute_input": "2025-07-27T17:15:12.007710Z",
     "iopub.status.busy": "2025-07-27T17:15:12.006942Z",
     "iopub.status.idle": "2025-07-27T17:15:12.012590Z",
     "shell.execute_reply": "2025-07-27T17:15:12.011857Z",
     "shell.execute_reply.started": "2025-07-27T17:15:12.007684Z"
    }
   },
   "outputs": [],
   "source": [
    "# Fill the missing values in department with 'Unknown'\n",
    "df['department'] = df['department'].fillna('Unknown')"
   ]
  },
  {
   "cell_type": "markdown",
   "id": "161cef80-1465-4bf7-a5dd-77c98d726590",
   "metadata": {},
   "source": [
    "#### Department column missing values are filled with the respective median"
   ]
  },
  {
   "cell_type": "code",
   "execution_count": 19,
   "id": "45cc852e-7cad-4d18-bd6a-b5399e65ebb2",
   "metadata": {
    "execution": {
     "iopub.execute_input": "2025-07-27T17:15:13.966641Z",
     "iopub.status.busy": "2025-07-27T17:15:13.965935Z",
     "iopub.status.idle": "2025-07-27T17:15:13.978672Z",
     "shell.execute_reply": "2025-07-27T17:15:13.977960Z",
     "shell.execute_reply.started": "2025-07-27T17:15:13.966612Z"
    }
   },
   "outputs": [
    {
     "name": "stdout",
     "output_type": "stream",
     "text": [
      "Missing values in each column\n",
      "id               0\n",
      "name             0\n",
      "age              0\n",
      "salary           0\n",
      "hire_date     2015\n",
      "profile       2077\n",
      "department       0\n",
      "bonus         2041\n",
      "dtype: int64\n"
     ]
    },
    {
     "data": {
      "text/plain": [
       "array(['Marketing', 'HR', 'Unknown', 'IT', 'Finance'], dtype=object)"
      ]
     },
     "execution_count": 19,
     "metadata": {},
     "output_type": "execute_result"
    }
   ],
   "source": [
    "# Verify the Age & Salary data\n",
    "df.head()\n",
    "# Check for missing values\n",
    "print(\"Missing values in each column\")\n",
    "print(df.isnull().sum())\n",
    "# Check unique values in the department column\n",
    "df['department'].unique()"
   ]
  },
  {
   "cell_type": "markdown",
   "id": "e4df4a53-6359-4802-979d-df7070a57e9a",
   "metadata": {
    "jp-MarkdownHeadingCollapsed": true
   },
   "source": [
    "### Step 3: Parse and Extract Profile Information\n",
    "Devide Profile Column into 3 different columns i.e., Address, Phone, Email   \n",
    "\n",
    "Parse JSON profile data and extract structured information:\n",
    "- Extract address, phone, and email into separate columns\n",
    "- Handle malformed JSON gracefully\n",
    "- Maintain data integrity during extraction"
   ]
  },
  {
   "cell_type": "code",
   "execution_count": 20,
   "id": "40e044cc-fb5c-4b9a-a5f2-bfb99b07add1",
   "metadata": {
    "execution": {
     "iopub.execute_input": "2025-07-27T17:15:19.553095Z",
     "iopub.status.busy": "2025-07-27T17:15:19.552795Z",
     "iopub.status.idle": "2025-07-27T17:15:19.838157Z",
     "shell.execute_reply": "2025-07-27T17:15:19.837349Z",
     "shell.execute_reply.started": "2025-07-27T17:15:19.553072Z"
    }
   },
   "outputs": [
    {
     "name": "stdout",
     "output_type": "stream",
     "text": [
      "Top rows from profile column \n",
      "\n",
      "0    {\"address\": \"Street 29, City 39\", \"phone\": \"84...\n",
      "1    {\"address\": \"Street 89, City 38\", \"phone\": \"98...\n",
      "2    {\"address\": \"Street 29, City 3\", \"phone\": \"942...\n",
      "3    {\"address\": \"Street 92, City 42\", \"phone\": \"77...\n",
      "4    {\"address\": \"Street 47, City 11\", \"phone\": \"53...\n",
      "Name: profile, dtype: object\n",
      "\n",
      "Profile column values current data type\n",
      "<class 'str'>\n"
     ]
    }
   ],
   "source": [
    "print(\"Top rows from profile column \\n\")\n",
    "print(df['profile'].head())\n",
    "\n",
    "# Find the first non-null value in the column\n",
    "profile_first_value = df['profile'].dropna().iloc[0]\n",
    "# Print its type\n",
    "print(\"\\nProfile column values current data type\")\n",
    "print(type(profile_first_value))\n",
    "\n",
    "# If your 'profile' column already contains Python dictionaries, not JSON strings.\n",
    "# You do not need to parse it with json.loads(). The data is ready to be used directly.\n",
    "\n",
    "# Convert profile JSON strings into dictionaries\n",
    "df['profile'] = df['profile'].apply(lambda x: json.loads(x) if pd.notnull(x) else {})"
   ]
  },
  {
   "cell_type": "code",
   "execution_count": 21,
   "id": "10b5d994-5d55-438e-93fd-ff2042cffffd",
   "metadata": {
    "execution": {
     "iopub.execute_input": "2025-07-27T17:15:25.595983Z",
     "iopub.status.busy": "2025-07-27T17:15:25.595670Z",
     "iopub.status.idle": "2025-07-27T17:15:25.609220Z",
     "shell.execute_reply": "2025-07-27T17:15:25.608297Z",
     "shell.execute_reply.started": "2025-07-27T17:15:25.595960Z"
    }
   },
   "outputs": [
    {
     "name": "stdout",
     "output_type": "stream",
     "text": [
      "Extract Address Field....\n",
      "\n",
      "Top rows from profile column \n",
      "\n",
      "0    {'address': 'Street 29, City 39', 'phone': '84...\n",
      "1    {'address': 'Street 89, City 38', 'phone': '98...\n",
      "2    {'address': 'Street 29, City 3', 'phone': '942...\n",
      "3    {'address': 'Street 92, City 42', 'phone': '77...\n",
      "4    {'address': 'Street 47, City 11', 'phone': '53...\n",
      "Name: profile, dtype: object\n",
      "\n",
      "Top rows from newly created address column \n",
      "\n",
      "0    Street 29, City 39\n",
      "1    Street 89, City 38\n",
      "2     Street 29, City 3\n",
      "3    Street 92, City 42\n",
      "4    Street 47, City 11\n",
      "Name: address, dtype: object\n"
     ]
    }
   ],
   "source": [
    "# Extract Address Field\n",
    "print(\"Extract Address Field....\\n\")\n",
    "# Create new 'address' column by extracting from 'profile' dictionaries\n",
    "df['address'] = df['profile'].apply(lambda x: x.get('address', None))  # Returns None if no address key\n",
    "\n",
    "print(\"Top rows from profile column \\n\")\n",
    "print(df['profile'].head())\n",
    "print(\"\\nTop rows from newly created address column \\n\")\n",
    "print(df['address'].head())\n"
   ]
  },
  {
   "cell_type": "code",
   "execution_count": 22,
   "id": "af5fbe45-27ac-4eef-992f-79d4895060a0",
   "metadata": {
    "execution": {
     "iopub.execute_input": "2025-07-27T17:15:28.532169Z",
     "iopub.status.busy": "2025-07-27T17:15:28.531408Z",
     "iopub.status.idle": "2025-07-27T17:15:28.545782Z",
     "shell.execute_reply": "2025-07-27T17:15:28.544692Z",
     "shell.execute_reply.started": "2025-07-27T17:15:28.532141Z"
    }
   },
   "outputs": [
    {
     "name": "stdout",
     "output_type": "stream",
     "text": [
      "Extract Phone Field....\n",
      "\n",
      "Top rows from profile column \n",
      "\n",
      "0    {'address': 'Street 29, City 39', 'phone': '84...\n",
      "1    {'address': 'Street 89, City 38', 'phone': '98...\n",
      "2    {'address': 'Street 29, City 3', 'phone': '942...\n",
      "3    {'address': 'Street 92, City 42', 'phone': '77...\n",
      "4    {'address': 'Street 47, City 11', 'phone': '53...\n",
      "Name: profile, dtype: object\n",
      "\n",
      "Top rows from newly created phone column \n",
      "\n",
      "0    8458955749\n",
      "1    9887063287\n",
      "2    9422445720\n",
      "3    7701162317\n",
      "4    5392671150\n",
      "Name: phone, dtype: object\n"
     ]
    }
   ],
   "source": [
    "# Extract Phone Field\n",
    "print(\"Extract Phone Field....\\n\")\n",
    "# Create new 'phone' column by extracting from 'profile' dictionaries\n",
    "df['phone'] = df['profile'].apply(lambda x: x.get('phone', None))  # Returns None if no address key\n",
    "\n",
    "print(\"Top rows from profile column \\n\")\n",
    "print(df['profile'].head())\n",
    "print(\"\\nTop rows from newly created phone column \\n\")\n",
    "print(df['phone'].head())\n"
   ]
  },
  {
   "cell_type": "code",
   "execution_count": 23,
   "id": "aebdb099-5095-4149-b957-119ae9fccaa8",
   "metadata": {
    "execution": {
     "iopub.execute_input": "2025-07-27T17:15:30.746728Z",
     "iopub.status.busy": "2025-07-27T17:15:30.746126Z",
     "iopub.status.idle": "2025-07-27T17:15:30.758156Z",
     "shell.execute_reply": "2025-07-27T17:15:30.757371Z",
     "shell.execute_reply.started": "2025-07-27T17:15:30.746703Z"
    }
   },
   "outputs": [
    {
     "name": "stdout",
     "output_type": "stream",
     "text": [
      "Extract Email Field....\n",
      "\n",
      "Top rows from profile column \n",
      "\n",
      "0    {'address': 'Street 29, City 39', 'phone': '84...\n",
      "1    {'address': 'Street 89, City 38', 'phone': '98...\n",
      "2    {'address': 'Street 29, City 3', 'phone': '942...\n",
      "3    {'address': 'Street 92, City 42', 'phone': '77...\n",
      "4    {'address': 'Street 47, City 11', 'phone': '53...\n",
      "Name: profile, dtype: object\n",
      "\n",
      "Top rows from newly created email column \n",
      "\n",
      "0    email_543@example.com\n",
      "1    email_422@example.com\n",
      "2    email_827@example.com\n",
      "3    email_761@example.com\n",
      "4    email_431@example.com\n",
      "Name: email, dtype: object\n",
      "\n",
      "✅ Profile fields extracted:\n"
     ]
    }
   ],
   "source": [
    "# Extract Email Field\n",
    "print(\"Extract Email Field....\\n\")\n",
    "# Create new 'email' column by extracting from 'profile' dictionaries\n",
    "df['email'] = df['profile'].apply(lambda x: x.get('email', None))  # Returns None if no address key\n",
    "\n",
    "print(\"Top rows from profile column \\n\")\n",
    "print(df['profile'].head())\n",
    "print(\"\\nTop rows from newly created email column \\n\")\n",
    "print(df['email'].head())\n",
    "\n",
    "print(f\"\\n✅ Profile fields extracted:\")"
   ]
  },
  {
   "cell_type": "code",
   "execution_count": 24,
   "id": "8ee1aeb4-dac9-40f4-8455-1a24e1e8ff1d",
   "metadata": {
    "execution": {
     "iopub.execute_input": "2025-07-27T17:15:33.296718Z",
     "iopub.status.busy": "2025-07-27T17:15:33.295836Z",
     "iopub.status.idle": "2025-07-27T17:15:33.305098Z",
     "shell.execute_reply": "2025-07-27T17:15:33.304280Z",
     "shell.execute_reply.started": "2025-07-27T17:15:33.296689Z"
    }
   },
   "outputs": [
    {
     "name": "stdout",
     "output_type": "stream",
     "text": [
      "\n",
      "Columns before dropping profile:\n",
      "['id', 'name', 'age', 'salary', 'hire_date', 'profile', 'department', 'bonus', 'address', 'phone', 'email']\n",
      "\n",
      "Columns in new DataFrame after dropping profile:\n",
      "['id', 'name', 'age', 'salary', 'hire_date', 'department', 'bonus', 'address', 'phone', 'email']\n"
     ]
    }
   ],
   "source": [
    "# Now drop the profile column\n",
    "print(\"\\nColumns before dropping profile:\")\n",
    "print(df.columns.tolist())\n",
    "\n",
    "# Without inplace=True (df remains unchanged)\n",
    "cleaned_df = df.drop(columns=['profile'])\n",
    "\n",
    "# With inplace=True (df is modified directly)\n",
    "#df.drop(columns=['profile'], inplace=True)\n",
    "\n",
    "print(\"\\nColumns in new DataFrame after dropping profile:\")\n",
    "# print(df.columns.tolist())\n",
    "print(cleaned_df.columns.tolist())"
   ]
  },
  {
   "cell_type": "markdown",
   "id": "7edb385e-e37f-41ec-9c6b-5634419dc89a",
   "metadata": {
    "jp-MarkdownHeadingCollapsed": true
   },
   "source": [
    "### Step 4: Save cleaned data into new CSV and upload it to S3"
   ]
  },
  {
   "cell_type": "code",
   "execution_count": 25,
   "id": "d9f9bfbc-83de-433d-8461-d43f5d088731",
   "metadata": {
    "execution": {
     "iopub.execute_input": "2025-07-27T17:15:36.040789Z",
     "iopub.status.busy": "2025-07-27T17:15:36.040145Z",
     "iopub.status.idle": "2025-07-27T17:15:36.220844Z",
     "shell.execute_reply": "2025-07-27T17:15:36.220140Z",
     "shell.execute_reply.started": "2025-07-27T17:15:36.040761Z"
    }
   },
   "outputs": [
    {
     "name": "stdout",
     "output_type": "stream",
     "text": [
      "\n",
      "💾 Saving cleaned data to: 'data/cleaned_data.csv' ...\n",
      "✅ Cleaned data saved to: 'data/cleaned_data.csv'\n",
      "\n",
      "Uploading dataset to s3 bucket: sagemaker-us-east-1-891377300841\n",
      "Dataset 'mock_data.csv' uploaded to: s3://sagemaker-us-east-1-891377300841/output/cleaned_data.csv\n"
     ]
    }
   ],
   "source": [
    "print(\"\\n💾 Saving cleaned data to: 'data/cleaned_data.csv' ...\")\n",
    "cleaned_df.to_csv(\"data/cleaned_data.csv\", index=False)\n",
    "print(\"✅ Cleaned data saved to: 'data/cleaned_data.csv'\")\n",
    "\n",
    "print(f\"\\nUploading dataset to s3 bucket: {bucket}\")\n",
    "s3.meta.client.upload_file('data/cleaned_data.csv', bucket, 'output/cleaned_data.csv')\n",
    "print(f\"Dataset 'mock_data.csv' uploaded to: s3://{bucket}/output/cleaned_data.csv\")"
   ]
  },
  {
   "cell_type": "markdown",
   "id": "8fb68ace-9dce-4caf-9217-a25106886373",
   "metadata": {},
   "source": [
    "## 4. Data Transformation & Feature Engineering"
   ]
  },
  {
   "cell_type": "markdown",
   "id": "41937110-6255-4cc3-a4ce-cfb0d7fb91d2",
   "metadata": {
    "jp-MarkdownHeadingCollapsed": true
   },
   "source": [
    "### Step 1: Load the cleaned dataset into new DataFrame"
   ]
  },
  {
   "cell_type": "code",
   "execution_count": 26,
   "id": "1f36252c-0d27-44c4-9a51-25876ee35fdb",
   "metadata": {
    "execution": {
     "iopub.execute_input": "2025-07-27T17:15:40.239246Z",
     "iopub.status.busy": "2025-07-27T17:15:40.238497Z",
     "iopub.status.idle": "2025-07-27T17:15:40.356684Z",
     "shell.execute_reply": "2025-07-27T17:15:40.355817Z",
     "shell.execute_reply.started": "2025-07-27T17:15:40.239217Z"
    }
   },
   "outputs": [
    {
     "data": {
      "text/html": [
       "<div>\n",
       "<style scoped>\n",
       "    .dataframe tbody tr th:only-of-type {\n",
       "        vertical-align: middle;\n",
       "    }\n",
       "\n",
       "    .dataframe tbody tr th {\n",
       "        vertical-align: top;\n",
       "    }\n",
       "\n",
       "    .dataframe thead th {\n",
       "        text-align: right;\n",
       "    }\n",
       "</style>\n",
       "<table border=\"1\" class=\"dataframe\">\n",
       "  <thead>\n",
       "    <tr style=\"text-align: right;\">\n",
       "      <th></th>\n",
       "      <th>id</th>\n",
       "      <th>name</th>\n",
       "      <th>age</th>\n",
       "      <th>salary</th>\n",
       "      <th>hire_date</th>\n",
       "      <th>department</th>\n",
       "      <th>bonus</th>\n",
       "      <th>address</th>\n",
       "      <th>phone</th>\n",
       "      <th>email</th>\n",
       "    </tr>\n",
       "  </thead>\n",
       "  <tbody>\n",
       "    <tr>\n",
       "      <th>0</th>\n",
       "      <td>1</td>\n",
       "      <td>Name_103</td>\n",
       "      <td>77.0</td>\n",
       "      <td>60000.0</td>\n",
       "      <td>2016-11-20</td>\n",
       "      <td>Marketing</td>\n",
       "      <td>2904.0</td>\n",
       "      <td>Street 29, City 39</td>\n",
       "      <td>8.458956e+09</td>\n",
       "      <td>email_543@example.com</td>\n",
       "    </tr>\n",
       "    <tr>\n",
       "      <th>1</th>\n",
       "      <td>2</td>\n",
       "      <td>Name_436</td>\n",
       "      <td>62.0</td>\n",
       "      <td>50000.0</td>\n",
       "      <td>2016-03-29</td>\n",
       "      <td>Marketing</td>\n",
       "      <td>6333.0</td>\n",
       "      <td>Street 89, City 38</td>\n",
       "      <td>9.887063e+09</td>\n",
       "      <td>email_422@example.com</td>\n",
       "    </tr>\n",
       "    <tr>\n",
       "      <th>2</th>\n",
       "      <td>3</td>\n",
       "      <td>Name_861</td>\n",
       "      <td>61.0</td>\n",
       "      <td>60000.0</td>\n",
       "      <td>2022-04-09</td>\n",
       "      <td>HR</td>\n",
       "      <td>3831.0</td>\n",
       "      <td>Street 29, City 3</td>\n",
       "      <td>9.422446e+09</td>\n",
       "      <td>email_827@example.com</td>\n",
       "    </tr>\n",
       "    <tr>\n",
       "      <th>3</th>\n",
       "      <td>4</td>\n",
       "      <td>Name_271</td>\n",
       "      <td>36.0</td>\n",
       "      <td>70000.0</td>\n",
       "      <td>2020-10-09</td>\n",
       "      <td>Unknown</td>\n",
       "      <td>NaN</td>\n",
       "      <td>Street 92, City 42</td>\n",
       "      <td>7.701162e+09</td>\n",
       "      <td>email_761@example.com</td>\n",
       "    </tr>\n",
       "    <tr>\n",
       "      <th>4</th>\n",
       "      <td>5</td>\n",
       "      <td>Name_107</td>\n",
       "      <td>78.0</td>\n",
       "      <td>60000.0</td>\n",
       "      <td>NaN</td>\n",
       "      <td>IT</td>\n",
       "      <td>1319.0</td>\n",
       "      <td>Street 47, City 11</td>\n",
       "      <td>5.392671e+09</td>\n",
       "      <td>email_431@example.com</td>\n",
       "    </tr>\n",
       "  </tbody>\n",
       "</table>\n",
       "</div>"
      ],
      "text/plain": [
       "   id      name   age   salary   hire_date department   bonus  \\\n",
       "0   1  Name_103  77.0  60000.0  2016-11-20  Marketing  2904.0   \n",
       "1   2  Name_436  62.0  50000.0  2016-03-29  Marketing  6333.0   \n",
       "2   3  Name_861  61.0  60000.0  2022-04-09         HR  3831.0   \n",
       "3   4  Name_271  36.0  70000.0  2020-10-09    Unknown     NaN   \n",
       "4   5  Name_107  78.0  60000.0         NaN         IT  1319.0   \n",
       "\n",
       "              address         phone                  email  \n",
       "0  Street 29, City 39  8.458956e+09  email_543@example.com  \n",
       "1  Street 89, City 38  9.887063e+09  email_422@example.com  \n",
       "2   Street 29, City 3  9.422446e+09  email_827@example.com  \n",
       "3  Street 92, City 42  7.701162e+09  email_761@example.com  \n",
       "4  Street 47, City 11  5.392671e+09  email_431@example.com  "
      ]
     },
     "execution_count": 26,
     "metadata": {},
     "output_type": "execute_result"
    }
   ],
   "source": [
    "transform_df = pd.read_csv(f's3://{bucket}/output/cleaned_data.csv')\n",
    "transform_df.head()"
   ]
  },
  {
   "cell_type": "markdown",
   "id": "c4589364-d7f7-4d82-a6a3-873ded9a45e0",
   "metadata": {
    "jp-MarkdownHeadingCollapsed": true
   },
   "source": [
    "### Step 2 : Feature Engineering - Address Length\n",
    "Create address length feature for potential geographic analysis."
   ]
  },
  {
   "cell_type": "code",
   "execution_count": 27,
   "id": "5054fd88-4a6f-4a78-a1e1-777b05db61e3",
   "metadata": {
    "execution": {
     "iopub.execute_input": "2025-07-27T17:15:44.836857Z",
     "iopub.status.busy": "2025-07-27T17:15:44.836311Z",
     "iopub.status.idle": "2025-07-27T17:15:44.854979Z",
     "shell.execute_reply": "2025-07-27T17:15:44.854304Z",
     "shell.execute_reply.started": "2025-07-27T17:15:44.836825Z"
    }
   },
   "outputs": [
    {
     "name": "stdout",
     "output_type": "stream",
     "text": [
      "\n",
      "🔧 Creating Address Length Feature...\n",
      "Address followed by Address Length columns\n"
     ]
    },
    {
     "data": {
      "text/html": [
       "<div>\n",
       "<style scoped>\n",
       "    .dataframe tbody tr th:only-of-type {\n",
       "        vertical-align: middle;\n",
       "    }\n",
       "\n",
       "    .dataframe tbody tr th {\n",
       "        vertical-align: top;\n",
       "    }\n",
       "\n",
       "    .dataframe thead th {\n",
       "        text-align: right;\n",
       "    }\n",
       "</style>\n",
       "<table border=\"1\" class=\"dataframe\">\n",
       "  <thead>\n",
       "    <tr style=\"text-align: right;\">\n",
       "      <th></th>\n",
       "      <th>address</th>\n",
       "      <th>address_length</th>\n",
       "    </tr>\n",
       "  </thead>\n",
       "  <tbody>\n",
       "    <tr>\n",
       "      <th>0</th>\n",
       "      <td>Street 29, City 39</td>\n",
       "      <td>18</td>\n",
       "    </tr>\n",
       "    <tr>\n",
       "      <th>1</th>\n",
       "      <td>Street 89, City 38</td>\n",
       "      <td>18</td>\n",
       "    </tr>\n",
       "    <tr>\n",
       "      <th>2</th>\n",
       "      <td>Street 29, City 3</td>\n",
       "      <td>17</td>\n",
       "    </tr>\n",
       "    <tr>\n",
       "      <th>3</th>\n",
       "      <td>Street 92, City 42</td>\n",
       "      <td>18</td>\n",
       "    </tr>\n",
       "    <tr>\n",
       "      <th>4</th>\n",
       "      <td>Street 47, City 11</td>\n",
       "      <td>18</td>\n",
       "    </tr>\n",
       "  </tbody>\n",
       "</table>\n",
       "</div>"
      ],
      "text/plain": [
       "              address  address_length\n",
       "0  Street 29, City 39              18\n",
       "1  Street 89, City 38              18\n",
       "2   Street 29, City 3              17\n",
       "3  Street 92, City 42              18\n",
       "4  Street 47, City 11              18"
      ]
     },
     "execution_count": 27,
     "metadata": {},
     "output_type": "execute_result"
    }
   ],
   "source": [
    "# Create a new column 'address_length' \n",
    "print(\"\\n🔧 Creating Address Length Feature...\")\n",
    "transform_df['address_length'] = transform_df['address'].apply(lambda x: len(str(x)))\n",
    "print(\"Address followed by Address Length columns\")\n",
    "transform_df[['address', 'address_length']].head()"
   ]
  },
  {
   "cell_type": "markdown",
   "id": "7a3a3a74-21ab-42bb-a0c0-3654bd30762e",
   "metadata": {
    "jp-MarkdownHeadingCollapsed": true
   },
   "source": [
    "### Step 3: Feature Engineering - Salary Categorization\n",
    "Create salary categories for easier analysis and modeling.  \n",
    "This converts continuous salary into ordinal categories."
   ]
  },
  {
   "cell_type": "code",
   "execution_count": 28,
   "id": "8273466c-9379-4d78-b658-0837258d5cdb",
   "metadata": {
    "execution": {
     "iopub.execute_input": "2025-07-27T17:15:53.209355Z",
     "iopub.status.busy": "2025-07-27T17:15:53.209058Z",
     "iopub.status.idle": "2025-07-27T17:15:53.223393Z",
     "shell.execute_reply": "2025-07-27T17:15:53.222694Z",
     "shell.execute_reply.started": "2025-07-27T17:15:53.209335Z"
    }
   },
   "outputs": [
    {
     "name": "stdout",
     "output_type": "stream",
     "text": [
      "\n",
      "🔧 Creating Salary Categories...\n",
      "Sample data after adding the 'salary_category' column: \n",
      "\n"
     ]
    },
    {
     "data": {
      "text/html": [
       "<div>\n",
       "<style scoped>\n",
       "    .dataframe tbody tr th:only-of-type {\n",
       "        vertical-align: middle;\n",
       "    }\n",
       "\n",
       "    .dataframe tbody tr th {\n",
       "        vertical-align: top;\n",
       "    }\n",
       "\n",
       "    .dataframe thead th {\n",
       "        text-align: right;\n",
       "    }\n",
       "</style>\n",
       "<table border=\"1\" class=\"dataframe\">\n",
       "  <thead>\n",
       "    <tr style=\"text-align: right;\">\n",
       "      <th></th>\n",
       "      <th>salary</th>\n",
       "      <th>salary_category</th>\n",
       "    </tr>\n",
       "  </thead>\n",
       "  <tbody>\n",
       "    <tr>\n",
       "      <th>0</th>\n",
       "      <td>60000.0</td>\n",
       "      <td>medium</td>\n",
       "    </tr>\n",
       "    <tr>\n",
       "      <th>1</th>\n",
       "      <td>50000.0</td>\n",
       "      <td>low</td>\n",
       "    </tr>\n",
       "    <tr>\n",
       "      <th>2</th>\n",
       "      <td>60000.0</td>\n",
       "      <td>medium</td>\n",
       "    </tr>\n",
       "    <tr>\n",
       "      <th>3</th>\n",
       "      <td>70000.0</td>\n",
       "      <td>medium</td>\n",
       "    </tr>\n",
       "    <tr>\n",
       "      <th>4</th>\n",
       "      <td>60000.0</td>\n",
       "      <td>medium</td>\n",
       "    </tr>\n",
       "  </tbody>\n",
       "</table>\n",
       "</div>"
      ],
      "text/plain": [
       "    salary salary_category\n",
       "0  60000.0          medium\n",
       "1  50000.0             low\n",
       "2  60000.0          medium\n",
       "3  70000.0          medium\n",
       "4  60000.0          medium"
      ]
     },
     "execution_count": 28,
     "metadata": {},
     "output_type": "execute_result"
    }
   ],
   "source": [
    "print(\"\\n🔧 Creating Salary Categories...\")\n",
    "# Define the bins and labels\n",
    "bins = [0, 50000, 70000, 100000]\n",
    "labels = ['low', 'medium', 'high']\n",
    "\n",
    "# Create a new column 'salary_category'\n",
    "transform_df['salary_category'] = pd.cut(df['salary'], bins=bins, labels=labels, include_lowest=True)\n",
    "\n",
    "# Print sample data after adding the 'salary_category' column\n",
    "print(\"Sample data after adding the 'salary_category' column: \\n\")\n",
    "transform_df[['salary', 'salary_category']].head()"
   ]
  },
  {
   "cell_type": "markdown",
   "id": "8aa5499d-ae91-4868-a45a-873757984b1e",
   "metadata": {
    "jp-MarkdownHeadingCollapsed": true
   },
   "source": [
    "### Step 4: Feature Engineering - Age Groups  \n",
    "Create age groups for demographic analysis.  \n",
    "This helps in understanding age-based patterns in the data.  "
   ]
  },
  {
   "cell_type": "code",
   "execution_count": 29,
   "id": "4a60a508-591e-4bc8-a8dc-21b8ef5f15d1",
   "metadata": {
    "execution": {
     "iopub.execute_input": "2025-07-27T17:15:59.396829Z",
     "iopub.status.busy": "2025-07-27T17:15:59.395997Z",
     "iopub.status.idle": "2025-07-27T17:15:59.410542Z",
     "shell.execute_reply": "2025-07-27T17:15:59.409870Z",
     "shell.execute_reply.started": "2025-07-27T17:15:59.396804Z"
    }
   },
   "outputs": [
    {
     "name": "stdout",
     "output_type": "stream",
     "text": [
      "\n",
      "🔧 Creating Age Groups...\n",
      "Age group distribution:\n",
      "age_group\n",
      "Experienced     7318\n",
      "Senior          4068\n",
      "Early Career    3142\n",
      "Mid Career      3022\n",
      "Young           2450\n",
      "Name: count, dtype: int64\n",
      "\n",
      "Sample data after adding the 'age_group' column: \n",
      "\n"
     ]
    },
    {
     "data": {
      "text/html": [
       "<div>\n",
       "<style scoped>\n",
       "    .dataframe tbody tr th:only-of-type {\n",
       "        vertical-align: middle;\n",
       "    }\n",
       "\n",
       "    .dataframe tbody tr th {\n",
       "        vertical-align: top;\n",
       "    }\n",
       "\n",
       "    .dataframe thead th {\n",
       "        text-align: right;\n",
       "    }\n",
       "</style>\n",
       "<table border=\"1\" class=\"dataframe\">\n",
       "  <thead>\n",
       "    <tr style=\"text-align: right;\">\n",
       "      <th></th>\n",
       "      <th>age</th>\n",
       "      <th>age_group</th>\n",
       "    </tr>\n",
       "  </thead>\n",
       "  <tbody>\n",
       "    <tr>\n",
       "      <th>0</th>\n",
       "      <td>77.0</td>\n",
       "      <td>Experienced</td>\n",
       "    </tr>\n",
       "    <tr>\n",
       "      <th>1</th>\n",
       "      <td>62.0</td>\n",
       "      <td>Experienced</td>\n",
       "    </tr>\n",
       "    <tr>\n",
       "      <th>2</th>\n",
       "      <td>61.0</td>\n",
       "      <td>Experienced</td>\n",
       "    </tr>\n",
       "    <tr>\n",
       "      <th>3</th>\n",
       "      <td>36.0</td>\n",
       "      <td>Mid Career</td>\n",
       "    </tr>\n",
       "    <tr>\n",
       "      <th>4</th>\n",
       "      <td>78.0</td>\n",
       "      <td>Experienced</td>\n",
       "    </tr>\n",
       "  </tbody>\n",
       "</table>\n",
       "</div>"
      ],
      "text/plain": [
       "    age    age_group\n",
       "0  77.0  Experienced\n",
       "1  62.0  Experienced\n",
       "2  61.0  Experienced\n",
       "3  36.0   Mid Career\n",
       "4  78.0  Experienced"
      ]
     },
     "execution_count": 29,
     "metadata": {},
     "output_type": "execute_result"
    }
   ],
   "source": [
    "print(\"\\n🔧 Creating Age Groups...\")\n",
    "# Define age bins and labels\n",
    "age_bins = [0, 25, 35, 45, 55, float('inf')]\n",
    "age_labels = ['Young', 'Early Career', 'Mid Career', 'Senior', 'Experienced']\n",
    "\n",
    "# Create a new column 'salary_category'\n",
    "transform_df['age_group'] = pd.cut(df['age'], bins=age_bins, labels=age_labels, include_lowest=True)\n",
    "\n",
    "# Age group distribution\n",
    "print(f\"Age group distribution:\")\n",
    "print(transform_df['age_group'].value_counts())\n",
    "\n",
    "# Print sample data after adding the 'salary_category' column\n",
    "print(\"\\nSample data after adding the 'age_group' column: \\n\")\n",
    "transform_df[['age', 'age_group']].head()\n"
   ]
  },
  {
   "cell_type": "markdown",
   "id": "60b29fe3-0142-4bcf-9b99-d461e04b2d38",
   "metadata": {
    "jp-MarkdownHeadingCollapsed": true
   },
   "source": [
    "### Step 5: Feature Engineering - One-Hot Encoding"
   ]
  },
  {
   "cell_type": "code",
   "execution_count": 52,
   "id": "587df725-b036-4d3d-8334-74348b572845",
   "metadata": {
    "execution": {
     "iopub.execute_input": "2025-07-27T17:49:41.812699Z",
     "iopub.status.busy": "2025-07-27T17:49:41.812086Z",
     "iopub.status.idle": "2025-07-27T17:49:41.835836Z",
     "shell.execute_reply": "2025-07-27T17:49:41.835214Z",
     "shell.execute_reply.started": "2025-07-27T17:49:41.812676Z"
    }
   },
   "outputs": [
    {
     "name": "stdout",
     "output_type": "stream",
     "text": [
      "Top 5 rows with boolean values\n",
      "   id      name   age   salary   hire_date   bonus             address  \\\n",
      "0   1  Name_103  77.0  60000.0  2016-11-20  2904.0  Street 29, City 39   \n",
      "1   2  Name_436  62.0  50000.0  2016-03-29  6333.0  Street 89, City 38   \n",
      "2   3  Name_861  61.0  60000.0  2022-04-09  3831.0   Street 29, City 3   \n",
      "3   4  Name_271  36.0  70000.0  2020-10-09     NaN  Street 92, City 42   \n",
      "4   5  Name_107  78.0  60000.0         NaN  1319.0  Street 47, City 11   \n",
      "\n",
      "          phone                  email  address_length salary_category  \\\n",
      "0  8.458956e+09  email_543@example.com              18          medium   \n",
      "1  9.887063e+09  email_422@example.com              18             low   \n",
      "2  9.422446e+09  email_827@example.com              17          medium   \n",
      "3  7.701162e+09  email_761@example.com              18          medium   \n",
      "4  5.392671e+09  email_431@example.com              18          medium   \n",
      "\n",
      "     age_group  dept_Finance  dept_HR  dept_IT  dept_Marketing  dept_Unknown  \n",
      "0  Experienced         False    False    False            True         False  \n",
      "1  Experienced         False    False    False            True         False  \n",
      "2  Experienced         False     True    False           False         False  \n",
      "3   Mid Career         False    False    False           False          True  \n",
      "4  Experienced         False    False     True           False         False  \n",
      "\n",
      "Top 5 rows with numberic values\n",
      "\n",
      "   id      name   age   salary   hire_date   bonus             address  \\\n",
      "0   1  Name_103  77.0  60000.0  2016-11-20  2904.0  Street 29, City 39   \n",
      "1   2  Name_436  62.0  50000.0  2016-03-29  6333.0  Street 89, City 38   \n",
      "2   3  Name_861  61.0  60000.0  2022-04-09  3831.0   Street 29, City 3   \n",
      "3   4  Name_271  36.0  70000.0  2020-10-09     NaN  Street 92, City 42   \n",
      "4   5  Name_107  78.0  60000.0         NaN  1319.0  Street 47, City 11   \n",
      "\n",
      "          phone                  email  address_length salary_category  \\\n",
      "0  8.458956e+09  email_543@example.com              18          medium   \n",
      "1  9.887063e+09  email_422@example.com              18             low   \n",
      "2  9.422446e+09  email_827@example.com              17          medium   \n",
      "3  7.701162e+09  email_761@example.com              18          medium   \n",
      "4  5.392671e+09  email_431@example.com              18          medium   \n",
      "\n",
      "     age_group  dept_Finance  dept_HR  dept_IT  dept_Marketing  dept_Unknown  \n",
      "0  Experienced             0        0        0               1             0  \n",
      "1  Experienced             0        0        0               1             0  \n",
      "2  Experienced             0        1        0               0             0  \n",
      "3   Mid Career             0        0        0               0             1  \n",
      "4  Experienced             0        0        1               0             0  \n"
     ]
    }
   ],
   "source": [
    "transform_df_encoded = pd.get_dummies(transform_df, columns=['department'], prefix='dept')\n",
    "print(\"Top 5 rows with boolean values\")\n",
    "print(transform_df_encoded.head())\n",
    "\n",
    "bool_cols = transform_df_encoded.select_dtypes(include='bool').columns\n",
    "transform_df_encoded[bool_cols] = transform_df_encoded[bool_cols].astype(int)\n",
    "\n",
    "print(\"\\nTop 5 rows with numberic values\\n\")\n",
    "print(transform_df_encoded.head())"
   ]
  },
  {
   "cell_type": "markdown",
   "id": "9ab4dd85-4808-4092-84a7-9884b356b2ed",
   "metadata": {
    "execution": {
     "iopub.execute_input": "2025-07-27T17:33:57.674942Z",
     "iopub.status.busy": "2025-07-27T17:33:57.674660Z",
     "iopub.status.idle": "2025-07-27T17:33:57.686040Z",
     "shell.execute_reply": "2025-07-27T17:33:57.685195Z",
     "shell.execute_reply.started": "2025-07-27T17:33:57.674921Z"
    },
    "jp-MarkdownHeadingCollapsed": true
   },
   "source": [
    "### Step 6: Remove missing values in bonus (is the target)"
   ]
  },
  {
   "cell_type": "code",
   "execution_count": 53,
   "id": "b3e6dcb0-6ddd-4aa1-b71c-23f7643ca281",
   "metadata": {
    "execution": {
     "iopub.execute_input": "2025-07-27T18:09:53.913789Z",
     "iopub.status.busy": "2025-07-27T18:09:53.912917Z",
     "iopub.status.idle": "2025-07-27T18:09:53.934485Z",
     "shell.execute_reply": "2025-07-27T18:09:53.933643Z",
     "shell.execute_reply.started": "2025-07-27T18:09:53.913758Z"
    }
   },
   "outputs": [
    {
     "name": "stdout",
     "output_type": "stream",
     "text": [
      "\n",
      "❓ Missing Values Analysis before Removing Missing:\n",
      "\n",
      "id                    0\n",
      "name                  0\n",
      "age                   0\n",
      "salary                0\n",
      "hire_date          2015\n",
      "bonus              2041\n",
      "address            2077\n",
      "phone              2077\n",
      "email              2077\n",
      "address_length        0\n",
      "salary_category       0\n",
      "age_group             0\n",
      "dept_Finance          0\n",
      "dept_HR               0\n",
      "dept_IT               0\n",
      "dept_Marketing        0\n",
      "dept_Unknown          0\n",
      "dtype: int64\n",
      "\n",
      "❓ Missing Values Analysis after Removing Missing:\n",
      "\n"
     ]
    },
    {
     "data": {
      "text/plain": [
       "id                    0\n",
       "name                  0\n",
       "age                   0\n",
       "salary                0\n",
       "hire_date          1792\n",
       "bonus                 0\n",
       "address            1860\n",
       "phone              1860\n",
       "email              1860\n",
       "address_length        0\n",
       "salary_category       0\n",
       "age_group             0\n",
       "dept_Finance          0\n",
       "dept_HR               0\n",
       "dept_IT               0\n",
       "dept_Marketing        0\n",
       "dept_Unknown          0\n",
       "dtype: int64"
      ]
     },
     "execution_count": 53,
     "metadata": {},
     "output_type": "execute_result"
    }
   ],
   "source": [
    "# Check for missing values\n",
    "print(\"\\n❓ Missing Values Analysis before Removing Missing:\\n\")\n",
    "print(transform_df_encoded.isnull().sum())\n",
    "\n",
    "# Remove missing rows for bonus\n",
    "transform_df_encoded = transform_df_encoded[transform_df_encoded['bonus'].notna()]\n",
    "print(\"\\n❓ Missing Values Analysis after Removing Missing:\\n\")\n",
    "transform_df_encoded.isnull().sum()\n"
   ]
  },
  {
   "cell_type": "markdown",
   "id": "6d8b2889-5c28-4965-a604-33d779b8311c",
   "metadata": {
    "execution": {
     "iopub.execute_input": "2025-07-27T18:12:34.504037Z",
     "iopub.status.busy": "2025-07-27T18:12:34.503634Z",
     "iopub.status.idle": "2025-07-27T18:12:34.507819Z",
     "shell.execute_reply": "2025-07-27T18:12:34.506903Z",
     "shell.execute_reply.started": "2025-07-27T18:12:34.504011Z"
    },
    "jp-MarkdownHeadingCollapsed": true
   },
   "source": [
    "### Step 7: Feature Engineering - One-Hot Encoding on age_group & salary_category"
   ]
  },
  {
   "cell_type": "code",
   "execution_count": 71,
   "id": "6dd51715-3c3e-4ea4-9960-ce5f7364c44d",
   "metadata": {
    "execution": {
     "iopub.execute_input": "2025-07-27T18:46:57.452869Z",
     "iopub.status.busy": "2025-07-27T18:46:57.452508Z",
     "iopub.status.idle": "2025-07-27T18:46:57.478666Z",
     "shell.execute_reply": "2025-07-27T18:46:57.477799Z",
     "shell.execute_reply.started": "2025-07-27T18:46:57.452845Z"
    }
   },
   "outputs": [
    {
     "name": "stdout",
     "output_type": "stream",
     "text": [
      "Top 5 rows with boolean values\n",
      "   id      name   age   salary   hire_date department   bonus  \\\n",
      "0   1  Name_103  77.0  60000.0  2016-11-20  Marketing  2904.0   \n",
      "1   2  Name_436  62.0  50000.0  2016-03-29  Marketing  6333.0   \n",
      "2   3  Name_861  61.0  60000.0  2022-04-09         HR  3831.0   \n",
      "3   4  Name_271  36.0  70000.0  2020-10-09    Unknown     NaN   \n",
      "4   5  Name_107  78.0  60000.0         NaN         IT  1319.0   \n",
      "\n",
      "              address         phone                  email  address_length  \\\n",
      "0  Street 29, City 39  8.458956e+09  email_543@example.com              18   \n",
      "1  Street 89, City 38  9.887063e+09  email_422@example.com              18   \n",
      "2   Street 29, City 3  9.422446e+09  email_827@example.com              17   \n",
      "3  Street 92, City 42  7.701162e+09  email_761@example.com              18   \n",
      "4  Street 47, City 11  5.392671e+09  email_431@example.com              18   \n",
      "\n",
      "   age_Young  age_Early Career  age_Mid Career  age_Senior  age_Experienced  \\\n",
      "0      False             False           False       False             True   \n",
      "1      False             False           False       False             True   \n",
      "2      False             False           False       False             True   \n",
      "3      False             False            True       False            False   \n",
      "4      False             False           False       False             True   \n",
      "\n",
      "   salary_low  salary_medium  salary_high  \n",
      "0       False           True        False  \n",
      "1        True          False        False  \n",
      "2       False           True        False  \n",
      "3       False           True        False  \n",
      "4       False           True        False  \n",
      "\n",
      "Top 5 rows with numberic values\n",
      "\n",
      "   id      name   age   salary   hire_date department   bonus  \\\n",
      "0   1  Name_103  77.0  60000.0  2016-11-20  Marketing  2904.0   \n",
      "1   2  Name_436  62.0  50000.0  2016-03-29  Marketing  6333.0   \n",
      "2   3  Name_861  61.0  60000.0  2022-04-09         HR  3831.0   \n",
      "3   4  Name_271  36.0  70000.0  2020-10-09    Unknown     NaN   \n",
      "4   5  Name_107  78.0  60000.0         NaN         IT  1319.0   \n",
      "\n",
      "              address         phone                  email  address_length  \\\n",
      "0  Street 29, City 39  8.458956e+09  email_543@example.com              18   \n",
      "1  Street 89, City 38  9.887063e+09  email_422@example.com              18   \n",
      "2   Street 29, City 3  9.422446e+09  email_827@example.com              17   \n",
      "3  Street 92, City 42  7.701162e+09  email_761@example.com              18   \n",
      "4  Street 47, City 11  5.392671e+09  email_431@example.com              18   \n",
      "\n",
      "   age_Young  age_Early Career  age_Mid Career  age_Senior  age_Experienced  \\\n",
      "0          0                 0               0           0                1   \n",
      "1          0                 0               0           0                1   \n",
      "2          0                 0               0           0                1   \n",
      "3          0                 0               1           0                0   \n",
      "4          0                 0               0           0                1   \n",
      "\n",
      "   salary_low  salary_medium  salary_high  \n",
      "0           0              1            0  \n",
      "1           1              0            0  \n",
      "2           0              1            0  \n",
      "3           0              1            0  \n",
      "4           0              1            0  \n"
     ]
    }
   ],
   "source": [
    "transform_df_encoded = pd.get_dummies(transform_df, columns=['age_group', 'salary_category'], prefix=['age', 'salary'])\n",
    "print(\"Top 5 rows with boolean values\")\n",
    "print(transform_df_encoded.head())\n",
    "\n",
    "bool_cols = transform_df_encoded.select_dtypes(include='bool').columns\n",
    "transform_df_encoded[bool_cols] = transform_df_encoded[bool_cols].astype(int)\n",
    "\n",
    "print(\"\\nTop 5 rows with numberic values\\n\")\n",
    "print(transform_df_encoded.head())"
   ]
  },
  {
   "cell_type": "markdown",
   "id": "74fc32b5-5ddc-4dd4-b57f-7593195d4d21",
   "metadata": {},
   "source": [
    "### Step 8: Feature Engineering | Calculate Tenure"
   ]
  },
  {
   "cell_type": "code",
   "execution_count": 72,
   "id": "68f7db69-be7e-4cd4-af46-65253bc71d8d",
   "metadata": {
    "execution": {
     "iopub.execute_input": "2025-07-27T18:47:01.521827Z",
     "iopub.status.busy": "2025-07-27T18:47:01.521006Z",
     "iopub.status.idle": "2025-07-27T18:47:02.248608Z",
     "shell.execute_reply": "2025-07-27T18:47:02.243208Z",
     "shell.execute_reply.started": "2025-07-27T18:47:01.521775Z"
    }
   },
   "outputs": [
    {
     "name": "stdout",
     "output_type": "stream",
     "text": [
      "Convert hire_date to datetime\n",
      "0   2016-11-20\n",
      "1   2016-03-29\n",
      "2   2022-04-09\n",
      "3   2020-10-09\n",
      "4          NaT\n",
      "Name: hire_date, dtype: datetime64[ns]\n",
      "Calculate Tenure in datys\n",
      "non date rows:\n",
      "Empty DataFrame\n",
      "Columns: [id, name, age, salary, hire_date, department, bonus, address, phone, email, address_length, age_Young, age_Early Career, age_Mid Career, age_Senior, age_Experienced, salary_low, salary_medium, salary_high]\n",
      "Index: []\n"
     ]
    },
    {
     "data": {
      "text/html": [
       "<pre style=\"white-space:pre;overflow-x:auto;line-height:normal;font-family:Menlo,'DejaVu Sans Mono',consolas,'Courier New',monospace\"><span style=\"color: #ff0000; text-decoration-color: #ff0000\">╭─────────────────────────────── </span><span style=\"color: #ff0000; text-decoration-color: #ff0000; font-weight: bold\">Traceback </span><span style=\"color: #ff7f7f; text-decoration-color: #ff7f7f; font-weight: bold\">(most recent call last)</span><span style=\"color: #ff0000; text-decoration-color: #ff0000\"> ────────────────────────────────╮</span>\n",
       "<span style=\"color: #ff0000; text-decoration-color: #ff0000\">│</span> in <span style=\"color: #00ff00; text-decoration-color: #00ff00\">&lt;module&gt;</span>:<span style=\"color: #0000ff; text-decoration-color: #0000ff\">11</span>                                                                                   <span style=\"color: #ff0000; text-decoration-color: #ff0000\">│</span>\n",
       "<span style=\"color: #ff0000; text-decoration-color: #ff0000\">│</span>                                                                                                  <span style=\"color: #ff0000; text-decoration-color: #ff0000\">│</span>\n",
       "<span style=\"color: #ff0000; text-decoration-color: #ff0000\">│</span>   <span style=\"color: #7f7f7f; text-decoration-color: #7f7f7f\"> 8 </span><span style=\"color: #00ffff; text-decoration-color: #00ffff\">print</span>(<span style=\"color: #808000; text-decoration-color: #808000\">\"non date rows:\"</span>)                                                                     <span style=\"color: #ff0000; text-decoration-color: #ff0000\">│</span>\n",
       "<span style=\"color: #ff0000; text-decoration-color: #ff0000\">│</span>   <span style=\"color: #7f7f7f; text-decoration-color: #7f7f7f\"> 9 </span><span style=\"color: #00ffff; text-decoration-color: #00ffff\">print</span>(non_date_rows)                                                                        <span style=\"color: #ff0000; text-decoration-color: #ff0000\">│</span>\n",
       "<span style=\"color: #ff0000; text-decoration-color: #ff0000\">│</span>   <span style=\"color: #7f7f7f; text-decoration-color: #7f7f7f\">10 </span>                                                                                            <span style=\"color: #ff0000; text-decoration-color: #ff0000\">│</span>\n",
       "<span style=\"color: #ff0000; text-decoration-color: #ff0000\">│</span> <span style=\"color: #800000; text-decoration-color: #800000\">❱ </span>11 transform_df_encoded[<span style=\"color: #808000; text-decoration-color: #808000\">'tenure_days'</span>] = (<span style=\"font-weight: bold; text-decoration: underline\">pd.Timestamp(</span><span style=\"color: #808000; text-decoration-color: #808000; font-weight: bold; text-decoration: underline\">'now'</span><span style=\"font-weight: bold; text-decoration: underline\">) - df[</span><span style=\"color: #808000; text-decoration-color: #808000; font-weight: bold; text-decoration: underline\">'hire_date'</span><span style=\"font-weight: bold; text-decoration: underline\">]</span>).dt.days       <span style=\"color: #ff0000; text-decoration-color: #ff0000\">│</span>\n",
       "<span style=\"color: #ff0000; text-decoration-color: #ff0000\">│</span>   <span style=\"color: #7f7f7f; text-decoration-color: #7f7f7f\">12 </span>                                                                                            <span style=\"color: #ff0000; text-decoration-color: #ff0000\">│</span>\n",
       "<span style=\"color: #ff0000; text-decoration-color: #ff0000\">│</span>                                                                                                  <span style=\"color: #ff0000; text-decoration-color: #ff0000\">│</span>\n",
       "<span style=\"color: #ff0000; text-decoration-color: #ff0000\">│</span> <span style=\"color: #bfbf7f; text-decoration-color: #bfbf7f\">/opt/conda/lib/python3.12/site-packages/pandas/core/ops/</span><span style=\"color: #808000; text-decoration-color: #808000; font-weight: bold\">common.py</span>:<span style=\"color: #0000ff; text-decoration-color: #0000ff\">76</span> in <span style=\"color: #00ff00; text-decoration-color: #00ff00\">new_method</span>               <span style=\"color: #ff0000; text-decoration-color: #ff0000\">│</span>\n",
       "<span style=\"color: #ff0000; text-decoration-color: #ff0000\">│</span>                                                                                                  <span style=\"color: #ff0000; text-decoration-color: #ff0000\">│</span>\n",
       "<span style=\"color: #ff0000; text-decoration-color: #ff0000\">│</span>   <span style=\"color: #7f7f7f; text-decoration-color: #7f7f7f\"> 73 </span><span style=\"color: #7f7f7f; text-decoration-color: #7f7f7f\">│   │   </span>                                                                                   <span style=\"color: #ff0000; text-decoration-color: #ff0000\">│</span>\n",
       "<span style=\"color: #ff0000; text-decoration-color: #ff0000\">│</span>   <span style=\"color: #7f7f7f; text-decoration-color: #7f7f7f\"> 74 </span><span style=\"color: #7f7f7f; text-decoration-color: #7f7f7f\">│   │   </span>other = item_from_zerodim(other)                                                   <span style=\"color: #ff0000; text-decoration-color: #ff0000\">│</span>\n",
       "<span style=\"color: #ff0000; text-decoration-color: #ff0000\">│</span>   <span style=\"color: #7f7f7f; text-decoration-color: #7f7f7f\"> 75 </span><span style=\"color: #7f7f7f; text-decoration-color: #7f7f7f\">│   │   </span>                                                                                   <span style=\"color: #ff0000; text-decoration-color: #ff0000\">│</span>\n",
       "<span style=\"color: #ff0000; text-decoration-color: #ff0000\">│</span> <span style=\"color: #800000; text-decoration-color: #800000\">❱ </span> 76 <span style=\"color: #7f7f7f; text-decoration-color: #7f7f7f\">│   │   </span><span style=\"color: #0000ff; text-decoration-color: #0000ff\">return</span> <span style=\"font-weight: bold; text-decoration: underline\">method(</span><span style=\"color: #00ffff; text-decoration-color: #00ffff; font-weight: bold; text-decoration: underline\">self</span><span style=\"font-weight: bold; text-decoration: underline\">, other)</span>                                                         <span style=\"color: #ff0000; text-decoration-color: #ff0000\">│</span>\n",
       "<span style=\"color: #ff0000; text-decoration-color: #ff0000\">│</span>   <span style=\"color: #7f7f7f; text-decoration-color: #7f7f7f\"> 77 </span><span style=\"color: #7f7f7f; text-decoration-color: #7f7f7f\">│   </span>                                                                                       <span style=\"color: #ff0000; text-decoration-color: #ff0000\">│</span>\n",
       "<span style=\"color: #ff0000; text-decoration-color: #ff0000\">│</span>   <span style=\"color: #7f7f7f; text-decoration-color: #7f7f7f\"> 78 </span><span style=\"color: #7f7f7f; text-decoration-color: #7f7f7f\">│   </span><span style=\"color: #0000ff; text-decoration-color: #0000ff\">return</span> new_method                                                                      <span style=\"color: #ff0000; text-decoration-color: #ff0000\">│</span>\n",
       "<span style=\"color: #ff0000; text-decoration-color: #ff0000\">│</span>   <span style=\"color: #7f7f7f; text-decoration-color: #7f7f7f\"> 79 </span>                                                                                           <span style=\"color: #ff0000; text-decoration-color: #ff0000\">│</span>\n",
       "<span style=\"color: #ff0000; text-decoration-color: #ff0000\">│</span>                                                                                                  <span style=\"color: #ff0000; text-decoration-color: #ff0000\">│</span>\n",
       "<span style=\"color: #ff0000; text-decoration-color: #ff0000\">│</span> <span style=\"color: #bfbf7f; text-decoration-color: #bfbf7f\">/opt/conda/lib/python3.12/site-packages/pandas/core/</span><span style=\"color: #808000; text-decoration-color: #808000; font-weight: bold\">arraylike.py</span>:<span style=\"color: #0000ff; text-decoration-color: #0000ff\">198</span> in <span style=\"color: #00ff00; text-decoration-color: #00ff00\">__rsub__</span>                 <span style=\"color: #ff0000; text-decoration-color: #ff0000\">│</span>\n",
       "<span style=\"color: #ff0000; text-decoration-color: #ff0000\">│</span>                                                                                                  <span style=\"color: #ff0000; text-decoration-color: #ff0000\">│</span>\n",
       "<span style=\"color: #ff0000; text-decoration-color: #ff0000\">│</span>   <span style=\"color: #7f7f7f; text-decoration-color: #7f7f7f\">195 </span><span style=\"color: #7f7f7f; text-decoration-color: #7f7f7f\">│   </span>                                                                                       <span style=\"color: #ff0000; text-decoration-color: #ff0000\">│</span>\n",
       "<span style=\"color: #ff0000; text-decoration-color: #ff0000\">│</span>   <span style=\"color: #7f7f7f; text-decoration-color: #7f7f7f\">196 </span><span style=\"color: #7f7f7f; text-decoration-color: #7f7f7f\">│   </span><span style=\"color: #ff00ff; text-decoration-color: #ff00ff; font-weight: bold\">@unpack_zerodim_and_defer</span>(<span style=\"color: #808000; text-decoration-color: #808000\">\"__rsub__\"</span>)                                                  <span style=\"color: #ff0000; text-decoration-color: #ff0000\">│</span>\n",
       "<span style=\"color: #ff0000; text-decoration-color: #ff0000\">│</span>   <span style=\"color: #7f7f7f; text-decoration-color: #7f7f7f\">197 </span><span style=\"color: #7f7f7f; text-decoration-color: #7f7f7f\">│   </span><span style=\"color: #0000ff; text-decoration-color: #0000ff\">def</span><span style=\"color: #808080; text-decoration-color: #808080\"> </span><span style=\"color: #00ff00; text-decoration-color: #00ff00\">__rsub__</span>(<span style=\"color: #00ffff; text-decoration-color: #00ffff\">self</span>, other):                                                             <span style=\"color: #ff0000; text-decoration-color: #ff0000\">│</span>\n",
       "<span style=\"color: #ff0000; text-decoration-color: #ff0000\">│</span> <span style=\"color: #800000; text-decoration-color: #800000\">❱ </span>198 <span style=\"color: #7f7f7f; text-decoration-color: #7f7f7f\">│   │   </span><span style=\"color: #0000ff; text-decoration-color: #0000ff\">return</span> <span style=\"color: #00ffff; text-decoration-color: #00ffff; font-weight: bold; text-decoration: underline\">self</span><span style=\"font-weight: bold; text-decoration: underline\">._arith_method(other, roperator.rsub)</span>                                   <span style=\"color: #ff0000; text-decoration-color: #ff0000\">│</span>\n",
       "<span style=\"color: #ff0000; text-decoration-color: #ff0000\">│</span>   <span style=\"color: #7f7f7f; text-decoration-color: #7f7f7f\">199 </span><span style=\"color: #7f7f7f; text-decoration-color: #7f7f7f\">│   </span>                                                                                       <span style=\"color: #ff0000; text-decoration-color: #ff0000\">│</span>\n",
       "<span style=\"color: #ff0000; text-decoration-color: #ff0000\">│</span>   <span style=\"color: #7f7f7f; text-decoration-color: #7f7f7f\">200 </span><span style=\"color: #7f7f7f; text-decoration-color: #7f7f7f\">│   </span><span style=\"color: #ff00ff; text-decoration-color: #ff00ff; font-weight: bold\">@unpack_zerodim_and_defer</span>(<span style=\"color: #808000; text-decoration-color: #808000\">\"__mul__\"</span>)                                                   <span style=\"color: #ff0000; text-decoration-color: #ff0000\">│</span>\n",
       "<span style=\"color: #ff0000; text-decoration-color: #ff0000\">│</span>   <span style=\"color: #7f7f7f; text-decoration-color: #7f7f7f\">201 </span><span style=\"color: #7f7f7f; text-decoration-color: #7f7f7f\">│   </span><span style=\"color: #0000ff; text-decoration-color: #0000ff\">def</span><span style=\"color: #808080; text-decoration-color: #808080\"> </span><span style=\"color: #00ff00; text-decoration-color: #00ff00\">__mul__</span>(<span style=\"color: #00ffff; text-decoration-color: #00ffff\">self</span>, other):                                                              <span style=\"color: #ff0000; text-decoration-color: #ff0000\">│</span>\n",
       "<span style=\"color: #ff0000; text-decoration-color: #ff0000\">│</span>                                                                                                  <span style=\"color: #ff0000; text-decoration-color: #ff0000\">│</span>\n",
       "<span style=\"color: #ff0000; text-decoration-color: #ff0000\">│</span> <span style=\"color: #bfbf7f; text-decoration-color: #bfbf7f\">/opt/conda/lib/python3.12/site-packages/pandas/core/</span><span style=\"color: #808000; text-decoration-color: #808000; font-weight: bold\">series.py</span>:<span style=\"color: #0000ff; text-decoration-color: #0000ff\">6135</span> in <span style=\"color: #00ff00; text-decoration-color: #00ff00\">_arith_method</span>              <span style=\"color: #ff0000; text-decoration-color: #ff0000\">│</span>\n",
       "<span style=\"color: #ff0000; text-decoration-color: #ff0000\">│</span>                                                                                                  <span style=\"color: #ff0000; text-decoration-color: #ff0000\">│</span>\n",
       "<span style=\"color: #ff0000; text-decoration-color: #ff0000\">│</span>   <span style=\"color: #7f7f7f; text-decoration-color: #7f7f7f\">6132 </span><span style=\"color: #7f7f7f; text-decoration-color: #7f7f7f\">│   </span>                                                                                      <span style=\"color: #ff0000; text-decoration-color: #ff0000\">│</span>\n",
       "<span style=\"color: #ff0000; text-decoration-color: #ff0000\">│</span>   <span style=\"color: #7f7f7f; text-decoration-color: #7f7f7f\">6133 </span><span style=\"color: #7f7f7f; text-decoration-color: #7f7f7f\">│   </span><span style=\"color: #0000ff; text-decoration-color: #0000ff\">def</span><span style=\"color: #808080; text-decoration-color: #808080\"> </span><span style=\"color: #00ff00; text-decoration-color: #00ff00\">_arith_method</span>(<span style=\"color: #00ffff; text-decoration-color: #00ffff\">self</span>, other, op):                                                   <span style=\"color: #ff0000; text-decoration-color: #ff0000\">│</span>\n",
       "<span style=\"color: #ff0000; text-decoration-color: #ff0000\">│</span>   <span style=\"color: #7f7f7f; text-decoration-color: #7f7f7f\">6134 </span><span style=\"color: #7f7f7f; text-decoration-color: #7f7f7f\">│   │   </span><span style=\"color: #00ffff; text-decoration-color: #00ffff\">self</span>, other = <span style=\"color: #00ffff; text-decoration-color: #00ffff\">self</span>._align_for_op(other)                                           <span style=\"color: #ff0000; text-decoration-color: #ff0000\">│</span>\n",
       "<span style=\"color: #ff0000; text-decoration-color: #ff0000\">│</span> <span style=\"color: #800000; text-decoration-color: #800000\">❱ </span>6135 <span style=\"color: #7f7f7f; text-decoration-color: #7f7f7f\">│   │   </span><span style=\"color: #0000ff; text-decoration-color: #0000ff\">return</span> <span style=\"font-weight: bold; text-decoration: underline\">base.IndexOpsMixin._arith_method(</span><span style=\"color: #00ffff; text-decoration-color: #00ffff; font-weight: bold; text-decoration: underline\">self</span><span style=\"font-weight: bold; text-decoration: underline\">, other, op)</span>                          <span style=\"color: #ff0000; text-decoration-color: #ff0000\">│</span>\n",
       "<span style=\"color: #ff0000; text-decoration-color: #ff0000\">│</span>   <span style=\"color: #7f7f7f; text-decoration-color: #7f7f7f\">6136 </span><span style=\"color: #7f7f7f; text-decoration-color: #7f7f7f\">│   </span>                                                                                      <span style=\"color: #ff0000; text-decoration-color: #ff0000\">│</span>\n",
       "<span style=\"color: #ff0000; text-decoration-color: #ff0000\">│</span>   <span style=\"color: #7f7f7f; text-decoration-color: #7f7f7f\">6137 </span><span style=\"color: #7f7f7f; text-decoration-color: #7f7f7f\">│   </span><span style=\"color: #0000ff; text-decoration-color: #0000ff\">def</span><span style=\"color: #808080; text-decoration-color: #808080\"> </span><span style=\"color: #00ff00; text-decoration-color: #00ff00\">_align_for_op</span>(<span style=\"color: #00ffff; text-decoration-color: #00ffff\">self</span>, right, align_asobject: <span style=\"color: #00ffff; text-decoration-color: #00ffff\">bool</span> = <span style=\"color: #0000ff; text-decoration-color: #0000ff\">False</span>):                         <span style=\"color: #ff0000; text-decoration-color: #ff0000\">│</span>\n",
       "<span style=\"color: #ff0000; text-decoration-color: #ff0000\">│</span>   <span style=\"color: #7f7f7f; text-decoration-color: #7f7f7f\">6138 </span><span style=\"color: #bfbfbf; text-decoration-color: #bfbfbf\">│   │   </span><span style=\"color: #808000; text-decoration-color: #808000\">\"\"\"align lhs and rhs Series\"\"\"</span>                                                    <span style=\"color: #ff0000; text-decoration-color: #ff0000\">│</span>\n",
       "<span style=\"color: #ff0000; text-decoration-color: #ff0000\">│</span>                                                                                                  <span style=\"color: #ff0000; text-decoration-color: #ff0000\">│</span>\n",
       "<span style=\"color: #ff0000; text-decoration-color: #ff0000\">│</span> <span style=\"color: #bfbf7f; text-decoration-color: #bfbf7f\">/opt/conda/lib/python3.12/site-packages/pandas/core/</span><span style=\"color: #808000; text-decoration-color: #808000; font-weight: bold\">base.py</span>:<span style=\"color: #0000ff; text-decoration-color: #0000ff\">1382</span> in <span style=\"color: #00ff00; text-decoration-color: #00ff00\">_arith_method</span>                <span style=\"color: #ff0000; text-decoration-color: #ff0000\">│</span>\n",
       "<span style=\"color: #ff0000; text-decoration-color: #ff0000\">│</span>                                                                                                  <span style=\"color: #ff0000; text-decoration-color: #ff0000\">│</span>\n",
       "<span style=\"color: #ff0000; text-decoration-color: #ff0000\">│</span>   <span style=\"color: #7f7f7f; text-decoration-color: #7f7f7f\">1379 </span><span style=\"color: #7f7f7f; text-decoration-color: #7f7f7f\">│   │   │   </span>rvalues = np.arange(rvalues.start, rvalues.stop, rvalues.step)                <span style=\"color: #ff0000; text-decoration-color: #ff0000\">│</span>\n",
       "<span style=\"color: #ff0000; text-decoration-color: #ff0000\">│</span>   <span style=\"color: #7f7f7f; text-decoration-color: #7f7f7f\">1380 </span><span style=\"color: #7f7f7f; text-decoration-color: #7f7f7f\">│   │   </span>                                                                                  <span style=\"color: #ff0000; text-decoration-color: #ff0000\">│</span>\n",
       "<span style=\"color: #ff0000; text-decoration-color: #ff0000\">│</span>   <span style=\"color: #7f7f7f; text-decoration-color: #7f7f7f\">1381 </span><span style=\"color: #7f7f7f; text-decoration-color: #7f7f7f\">│   │   </span><span style=\"color: #0000ff; text-decoration-color: #0000ff\">with</span> np.errstate(<span style=\"color: #00ffff; text-decoration-color: #00ffff\">all</span>=<span style=\"color: #808000; text-decoration-color: #808000\">\"ignore\"</span>):                                                   <span style=\"color: #ff0000; text-decoration-color: #ff0000\">│</span>\n",
       "<span style=\"color: #ff0000; text-decoration-color: #ff0000\">│</span> <span style=\"color: #800000; text-decoration-color: #800000\">❱ </span>1382 <span style=\"color: #7f7f7f; text-decoration-color: #7f7f7f\">│   │   │   </span>result = <span style=\"font-weight: bold; text-decoration: underline\">ops.arithmetic_op(lvalues, rvalues, op)</span>                              <span style=\"color: #ff0000; text-decoration-color: #ff0000\">│</span>\n",
       "<span style=\"color: #ff0000; text-decoration-color: #ff0000\">│</span>   <span style=\"color: #7f7f7f; text-decoration-color: #7f7f7f\">1383 </span><span style=\"color: #7f7f7f; text-decoration-color: #7f7f7f\">│   │   </span>                                                                                  <span style=\"color: #ff0000; text-decoration-color: #ff0000\">│</span>\n",
       "<span style=\"color: #ff0000; text-decoration-color: #ff0000\">│</span>   <span style=\"color: #7f7f7f; text-decoration-color: #7f7f7f\">1384 </span><span style=\"color: #7f7f7f; text-decoration-color: #7f7f7f\">│   │   </span><span style=\"color: #0000ff; text-decoration-color: #0000ff\">return</span> <span style=\"color: #00ffff; text-decoration-color: #00ffff\">self</span>._construct_result(result, name=res_name)                              <span style=\"color: #ff0000; text-decoration-color: #ff0000\">│</span>\n",
       "<span style=\"color: #ff0000; text-decoration-color: #ff0000\">│</span>   <span style=\"color: #7f7f7f; text-decoration-color: #7f7f7f\">1385 </span>                                                                                          <span style=\"color: #ff0000; text-decoration-color: #ff0000\">│</span>\n",
       "<span style=\"color: #ff0000; text-decoration-color: #ff0000\">│</span>                                                                                                  <span style=\"color: #ff0000; text-decoration-color: #ff0000\">│</span>\n",
       "<span style=\"color: #ff0000; text-decoration-color: #ff0000\">│</span> <span style=\"color: #bfbf7f; text-decoration-color: #bfbf7f\">/opt/conda/lib/python3.12/site-packages/pandas/core/ops/</span><span style=\"color: #808000; text-decoration-color: #808000; font-weight: bold\">array_ops.py</span>:<span style=\"color: #0000ff; text-decoration-color: #0000ff\">273</span> in <span style=\"color: #00ff00; text-decoration-color: #00ff00\">arithmetic_op</span>        <span style=\"color: #ff0000; text-decoration-color: #ff0000\">│</span>\n",
       "<span style=\"color: #ff0000; text-decoration-color: #ff0000\">│</span>                                                                                                  <span style=\"color: #ff0000; text-decoration-color: #ff0000\">│</span>\n",
       "<span style=\"color: #ff0000; text-decoration-color: #ff0000\">│</span>   <span style=\"color: #7f7f7f; text-decoration-color: #7f7f7f\">270 </span><span style=\"color: #7f7f7f; text-decoration-color: #7f7f7f\">│   </span>):                                                                                     <span style=\"color: #ff0000; text-decoration-color: #ff0000\">│</span>\n",
       "<span style=\"color: #ff0000; text-decoration-color: #ff0000\">│</span>   <span style=\"color: #7f7f7f; text-decoration-color: #7f7f7f\">271 </span><span style=\"color: #7f7f7f; text-decoration-color: #7f7f7f\">│   │   </span><span style=\"color: #7f7f7f; text-decoration-color: #7f7f7f\"># Timedelta/Timestamp and other custom scalars are included in the check</span>           <span style=\"color: #ff0000; text-decoration-color: #ff0000\">│</span>\n",
       "<span style=\"color: #ff0000; text-decoration-color: #ff0000\">│</span>   <span style=\"color: #7f7f7f; text-decoration-color: #7f7f7f\">272 </span><span style=\"color: #7f7f7f; text-decoration-color: #7f7f7f\">│   │   </span><span style=\"color: #7f7f7f; text-decoration-color: #7f7f7f\"># because numexpr will fail on it, see GH#31457</span>                                    <span style=\"color: #ff0000; text-decoration-color: #ff0000\">│</span>\n",
       "<span style=\"color: #ff0000; text-decoration-color: #ff0000\">│</span> <span style=\"color: #800000; text-decoration-color: #800000\">❱ </span>273 <span style=\"color: #7f7f7f; text-decoration-color: #7f7f7f\">│   │   </span>res_values = <span style=\"font-weight: bold; text-decoration: underline\">op(left, right)</span>                                                       <span style=\"color: #ff0000; text-decoration-color: #ff0000\">│</span>\n",
       "<span style=\"color: #ff0000; text-decoration-color: #ff0000\">│</span>   <span style=\"color: #7f7f7f; text-decoration-color: #7f7f7f\">274 </span><span style=\"color: #7f7f7f; text-decoration-color: #7f7f7f\">│   </span><span style=\"color: #0000ff; text-decoration-color: #0000ff\">else</span>:                                                                                  <span style=\"color: #ff0000; text-decoration-color: #ff0000\">│</span>\n",
       "<span style=\"color: #ff0000; text-decoration-color: #ff0000\">│</span>   <span style=\"color: #7f7f7f; text-decoration-color: #7f7f7f\">275 </span><span style=\"color: #7f7f7f; text-decoration-color: #7f7f7f\">│   │   </span><span style=\"color: #7f7f7f; text-decoration-color: #7f7f7f\"># TODO we should handle EAs consistently and move this check before the if/else</span>    <span style=\"color: #ff0000; text-decoration-color: #ff0000\">│</span>\n",
       "<span style=\"color: #ff0000; text-decoration-color: #ff0000\">│</span>   <span style=\"color: #7f7f7f; text-decoration-color: #7f7f7f\">276 </span><span style=\"color: #7f7f7f; text-decoration-color: #7f7f7f\">│   │   </span><span style=\"color: #7f7f7f; text-decoration-color: #7f7f7f\"># (https://github.com/pandas-dev/pandas/issues/41165)</span>                              <span style=\"color: #ff0000; text-decoration-color: #ff0000\">│</span>\n",
       "<span style=\"color: #ff0000; text-decoration-color: #ff0000\">│</span>                                                                                                  <span style=\"color: #ff0000; text-decoration-color: #ff0000\">│</span>\n",
       "<span style=\"color: #ff0000; text-decoration-color: #ff0000\">│</span> <span style=\"color: #bfbf7f; text-decoration-color: #bfbf7f\">/opt/conda/lib/python3.12/site-packages/pandas/core/</span><span style=\"color: #808000; text-decoration-color: #808000; font-weight: bold\">roperator.py</span>:<span style=\"color: #0000ff; text-decoration-color: #0000ff\">15</span> in <span style=\"color: #00ff00; text-decoration-color: #00ff00\">rsub</span>                      <span style=\"color: #ff0000; text-decoration-color: #ff0000\">│</span>\n",
       "<span style=\"color: #ff0000; text-decoration-color: #ff0000\">│</span>                                                                                                  <span style=\"color: #ff0000; text-decoration-color: #ff0000\">│</span>\n",
       "<span style=\"color: #ff0000; text-decoration-color: #ff0000\">│</span>   <span style=\"color: #7f7f7f; text-decoration-color: #7f7f7f\">12 </span>                                                                                            <span style=\"color: #ff0000; text-decoration-color: #ff0000\">│</span>\n",
       "<span style=\"color: #ff0000; text-decoration-color: #ff0000\">│</span>   <span style=\"color: #7f7f7f; text-decoration-color: #7f7f7f\">13 </span>                                                                                            <span style=\"color: #ff0000; text-decoration-color: #ff0000\">│</span>\n",
       "<span style=\"color: #ff0000; text-decoration-color: #ff0000\">│</span>   <span style=\"color: #7f7f7f; text-decoration-color: #7f7f7f\">14 </span><span style=\"color: #0000ff; text-decoration-color: #0000ff\">def</span><span style=\"color: #808080; text-decoration-color: #808080\"> </span><span style=\"color: #00ff00; text-decoration-color: #00ff00\">rsub</span>(left, right):                                                                      <span style=\"color: #ff0000; text-decoration-color: #ff0000\">│</span>\n",
       "<span style=\"color: #ff0000; text-decoration-color: #ff0000\">│</span> <span style=\"color: #800000; text-decoration-color: #800000\">❱ </span>15 <span style=\"color: #7f7f7f; text-decoration-color: #7f7f7f\">│   </span><span style=\"color: #0000ff; text-decoration-color: #0000ff\">return</span> <span style=\"font-weight: bold; text-decoration: underline\">right - left</span>                                                                     <span style=\"color: #ff0000; text-decoration-color: #ff0000\">│</span>\n",
       "<span style=\"color: #ff0000; text-decoration-color: #ff0000\">│</span>   <span style=\"color: #7f7f7f; text-decoration-color: #7f7f7f\">16 </span>                                                                                            <span style=\"color: #ff0000; text-decoration-color: #ff0000\">│</span>\n",
       "<span style=\"color: #ff0000; text-decoration-color: #ff0000\">│</span>   <span style=\"color: #7f7f7f; text-decoration-color: #7f7f7f\">17 </span>                                                                                            <span style=\"color: #ff0000; text-decoration-color: #ff0000\">│</span>\n",
       "<span style=\"color: #ff0000; text-decoration-color: #ff0000\">│</span>   <span style=\"color: #7f7f7f; text-decoration-color: #7f7f7f\">18 </span><span style=\"color: #0000ff; text-decoration-color: #0000ff\">def</span><span style=\"color: #808080; text-decoration-color: #808080\"> </span><span style=\"color: #00ff00; text-decoration-color: #00ff00\">rmul</span>(left, right):                                                                      <span style=\"color: #ff0000; text-decoration-color: #ff0000\">│</span>\n",
       "<span style=\"color: #ff0000; text-decoration-color: #ff0000\">╰──────────────────────────────────────────────────────────────────────────────────────────────────╯</span>\n",
       "<span style=\"color: #ff0000; text-decoration-color: #ff0000; font-weight: bold\">TypeError: </span>unsupported operand <span style=\"color: #e100e1; text-decoration-color: #e100e1; font-weight: bold\">type</span><span style=\"font-weight: bold\">(</span>s<span style=\"font-weight: bold\">)</span> for -: <span style=\"color: #008700; text-decoration-color: #008700\">'Timestamp'</span> and <span style=\"color: #008700; text-decoration-color: #008700\">'str'</span>\n",
       "</pre>\n"
      ],
      "text/plain": [
       "\u001b[38;2;255;0;0m╭─\u001b[0m\u001b[38;2;255;0;0m──────────────────────────────\u001b[0m\u001b[38;2;255;0;0m \u001b[0m\u001b[1;38;2;255;0;0mTraceback \u001b[0m\u001b[1;2;38;2;255;0;0m(most recent call last)\u001b[0m\u001b[38;2;255;0;0m \u001b[0m\u001b[38;2;255;0;0m───────────────────────────────\u001b[0m\u001b[38;2;255;0;0m─╮\u001b[0m\n",
       "\u001b[38;2;255;0;0m│\u001b[0m in \u001b[92m<module>\u001b[0m:\u001b[94m11\u001b[0m                                                                                   \u001b[38;2;255;0;0m│\u001b[0m\n",
       "\u001b[38;2;255;0;0m│\u001b[0m                                                                                                  \u001b[38;2;255;0;0m│\u001b[0m\n",
       "\u001b[38;2;255;0;0m│\u001b[0m   \u001b[2m 8 \u001b[0m\u001b[96mprint\u001b[0m(\u001b[33m\"\u001b[0m\u001b[33mnon date rows:\u001b[0m\u001b[33m\"\u001b[0m)                                                                     \u001b[38;2;255;0;0m│\u001b[0m\n",
       "\u001b[38;2;255;0;0m│\u001b[0m   \u001b[2m 9 \u001b[0m\u001b[96mprint\u001b[0m(non_date_rows)                                                                        \u001b[38;2;255;0;0m│\u001b[0m\n",
       "\u001b[38;2;255;0;0m│\u001b[0m   \u001b[2m10 \u001b[0m                                                                                            \u001b[38;2;255;0;0m│\u001b[0m\n",
       "\u001b[38;2;255;0;0m│\u001b[0m \u001b[31m❱ \u001b[0m11 transform_df_encoded[\u001b[33m'\u001b[0m\u001b[33mtenure_days\u001b[0m\u001b[33m'\u001b[0m] = (\u001b[1;4mpd.Timestamp(\u001b[0m\u001b[1;4;33m'\u001b[0m\u001b[1;4;33mnow\u001b[0m\u001b[1;4;33m'\u001b[0m\u001b[1;4m) - df[\u001b[0m\u001b[1;4;33m'\u001b[0m\u001b[1;4;33mhire_date\u001b[0m\u001b[1;4;33m'\u001b[0m\u001b[1;4m]\u001b[0m).dt.days       \u001b[38;2;255;0;0m│\u001b[0m\n",
       "\u001b[38;2;255;0;0m│\u001b[0m   \u001b[2m12 \u001b[0m                                                                                            \u001b[38;2;255;0;0m│\u001b[0m\n",
       "\u001b[38;2;255;0;0m│\u001b[0m                                                                                                  \u001b[38;2;255;0;0m│\u001b[0m\n",
       "\u001b[38;2;255;0;0m│\u001b[0m \u001b[2;33m/opt/conda/lib/python3.12/site-packages/pandas/core/ops/\u001b[0m\u001b[1;33mcommon.py\u001b[0m:\u001b[94m76\u001b[0m in \u001b[92mnew_method\u001b[0m               \u001b[38;2;255;0;0m│\u001b[0m\n",
       "\u001b[38;2;255;0;0m│\u001b[0m                                                                                                  \u001b[38;2;255;0;0m│\u001b[0m\n",
       "\u001b[38;2;255;0;0m│\u001b[0m   \u001b[2m 73 \u001b[0m\u001b[2m│   │   \u001b[0m                                                                                   \u001b[38;2;255;0;0m│\u001b[0m\n",
       "\u001b[38;2;255;0;0m│\u001b[0m   \u001b[2m 74 \u001b[0m\u001b[2m│   │   \u001b[0mother = item_from_zerodim(other)                                                   \u001b[38;2;255;0;0m│\u001b[0m\n",
       "\u001b[38;2;255;0;0m│\u001b[0m   \u001b[2m 75 \u001b[0m\u001b[2m│   │   \u001b[0m                                                                                   \u001b[38;2;255;0;0m│\u001b[0m\n",
       "\u001b[38;2;255;0;0m│\u001b[0m \u001b[31m❱ \u001b[0m 76 \u001b[2m│   │   \u001b[0m\u001b[94mreturn\u001b[0m \u001b[1;4mmethod(\u001b[0m\u001b[1;4;96mself\u001b[0m\u001b[1;4m, other)\u001b[0m                                                         \u001b[38;2;255;0;0m│\u001b[0m\n",
       "\u001b[38;2;255;0;0m│\u001b[0m   \u001b[2m 77 \u001b[0m\u001b[2m│   \u001b[0m                                                                                       \u001b[38;2;255;0;0m│\u001b[0m\n",
       "\u001b[38;2;255;0;0m│\u001b[0m   \u001b[2m 78 \u001b[0m\u001b[2m│   \u001b[0m\u001b[94mreturn\u001b[0m new_method                                                                      \u001b[38;2;255;0;0m│\u001b[0m\n",
       "\u001b[38;2;255;0;0m│\u001b[0m   \u001b[2m 79 \u001b[0m                                                                                           \u001b[38;2;255;0;0m│\u001b[0m\n",
       "\u001b[38;2;255;0;0m│\u001b[0m                                                                                                  \u001b[38;2;255;0;0m│\u001b[0m\n",
       "\u001b[38;2;255;0;0m│\u001b[0m \u001b[2;33m/opt/conda/lib/python3.12/site-packages/pandas/core/\u001b[0m\u001b[1;33marraylike.py\u001b[0m:\u001b[94m198\u001b[0m in \u001b[92m__rsub__\u001b[0m                 \u001b[38;2;255;0;0m│\u001b[0m\n",
       "\u001b[38;2;255;0;0m│\u001b[0m                                                                                                  \u001b[38;2;255;0;0m│\u001b[0m\n",
       "\u001b[38;2;255;0;0m│\u001b[0m   \u001b[2m195 \u001b[0m\u001b[2m│   \u001b[0m                                                                                       \u001b[38;2;255;0;0m│\u001b[0m\n",
       "\u001b[38;2;255;0;0m│\u001b[0m   \u001b[2m196 \u001b[0m\u001b[2m│   \u001b[0m\u001b[1;95m@unpack_zerodim_and_defer\u001b[0m(\u001b[33m\"\u001b[0m\u001b[33m__rsub__\u001b[0m\u001b[33m\"\u001b[0m)                                                  \u001b[38;2;255;0;0m│\u001b[0m\n",
       "\u001b[38;2;255;0;0m│\u001b[0m   \u001b[2m197 \u001b[0m\u001b[2m│   \u001b[0m\u001b[94mdef\u001b[0m\u001b[90m \u001b[0m\u001b[92m__rsub__\u001b[0m(\u001b[96mself\u001b[0m, other):                                                             \u001b[38;2;255;0;0m│\u001b[0m\n",
       "\u001b[38;2;255;0;0m│\u001b[0m \u001b[31m❱ \u001b[0m198 \u001b[2m│   │   \u001b[0m\u001b[94mreturn\u001b[0m \u001b[1;4;96mself\u001b[0m\u001b[1;4m._arith_method(other, roperator.rsub)\u001b[0m                                   \u001b[38;2;255;0;0m│\u001b[0m\n",
       "\u001b[38;2;255;0;0m│\u001b[0m   \u001b[2m199 \u001b[0m\u001b[2m│   \u001b[0m                                                                                       \u001b[38;2;255;0;0m│\u001b[0m\n",
       "\u001b[38;2;255;0;0m│\u001b[0m   \u001b[2m200 \u001b[0m\u001b[2m│   \u001b[0m\u001b[1;95m@unpack_zerodim_and_defer\u001b[0m(\u001b[33m\"\u001b[0m\u001b[33m__mul__\u001b[0m\u001b[33m\"\u001b[0m)                                                   \u001b[38;2;255;0;0m│\u001b[0m\n",
       "\u001b[38;2;255;0;0m│\u001b[0m   \u001b[2m201 \u001b[0m\u001b[2m│   \u001b[0m\u001b[94mdef\u001b[0m\u001b[90m \u001b[0m\u001b[92m__mul__\u001b[0m(\u001b[96mself\u001b[0m, other):                                                              \u001b[38;2;255;0;0m│\u001b[0m\n",
       "\u001b[38;2;255;0;0m│\u001b[0m                                                                                                  \u001b[38;2;255;0;0m│\u001b[0m\n",
       "\u001b[38;2;255;0;0m│\u001b[0m \u001b[2;33m/opt/conda/lib/python3.12/site-packages/pandas/core/\u001b[0m\u001b[1;33mseries.py\u001b[0m:\u001b[94m6135\u001b[0m in \u001b[92m_arith_method\u001b[0m              \u001b[38;2;255;0;0m│\u001b[0m\n",
       "\u001b[38;2;255;0;0m│\u001b[0m                                                                                                  \u001b[38;2;255;0;0m│\u001b[0m\n",
       "\u001b[38;2;255;0;0m│\u001b[0m   \u001b[2m6132 \u001b[0m\u001b[2m│   \u001b[0m                                                                                      \u001b[38;2;255;0;0m│\u001b[0m\n",
       "\u001b[38;2;255;0;0m│\u001b[0m   \u001b[2m6133 \u001b[0m\u001b[2m│   \u001b[0m\u001b[94mdef\u001b[0m\u001b[90m \u001b[0m\u001b[92m_arith_method\u001b[0m(\u001b[96mself\u001b[0m, other, op):                                                   \u001b[38;2;255;0;0m│\u001b[0m\n",
       "\u001b[38;2;255;0;0m│\u001b[0m   \u001b[2m6134 \u001b[0m\u001b[2m│   │   \u001b[0m\u001b[96mself\u001b[0m, other = \u001b[96mself\u001b[0m._align_for_op(other)                                           \u001b[38;2;255;0;0m│\u001b[0m\n",
       "\u001b[38;2;255;0;0m│\u001b[0m \u001b[31m❱ \u001b[0m6135 \u001b[2m│   │   \u001b[0m\u001b[94mreturn\u001b[0m \u001b[1;4mbase.IndexOpsMixin._arith_method(\u001b[0m\u001b[1;4;96mself\u001b[0m\u001b[1;4m, other, op)\u001b[0m                          \u001b[38;2;255;0;0m│\u001b[0m\n",
       "\u001b[38;2;255;0;0m│\u001b[0m   \u001b[2m6136 \u001b[0m\u001b[2m│   \u001b[0m                                                                                      \u001b[38;2;255;0;0m│\u001b[0m\n",
       "\u001b[38;2;255;0;0m│\u001b[0m   \u001b[2m6137 \u001b[0m\u001b[2m│   \u001b[0m\u001b[94mdef\u001b[0m\u001b[90m \u001b[0m\u001b[92m_align_for_op\u001b[0m(\u001b[96mself\u001b[0m, right, align_asobject: \u001b[96mbool\u001b[0m = \u001b[94mFalse\u001b[0m):                         \u001b[38;2;255;0;0m│\u001b[0m\n",
       "\u001b[38;2;255;0;0m│\u001b[0m   \u001b[2m6138 \u001b[0m\u001b[2;90m│   │   \u001b[0m\u001b[33m\"\"\"align lhs and rhs Series\"\"\"\u001b[0m                                                    \u001b[38;2;255;0;0m│\u001b[0m\n",
       "\u001b[38;2;255;0;0m│\u001b[0m                                                                                                  \u001b[38;2;255;0;0m│\u001b[0m\n",
       "\u001b[38;2;255;0;0m│\u001b[0m \u001b[2;33m/opt/conda/lib/python3.12/site-packages/pandas/core/\u001b[0m\u001b[1;33mbase.py\u001b[0m:\u001b[94m1382\u001b[0m in \u001b[92m_arith_method\u001b[0m                \u001b[38;2;255;0;0m│\u001b[0m\n",
       "\u001b[38;2;255;0;0m│\u001b[0m                                                                                                  \u001b[38;2;255;0;0m│\u001b[0m\n",
       "\u001b[38;2;255;0;0m│\u001b[0m   \u001b[2m1379 \u001b[0m\u001b[2m│   │   │   \u001b[0mrvalues = np.arange(rvalues.start, rvalues.stop, rvalues.step)                \u001b[38;2;255;0;0m│\u001b[0m\n",
       "\u001b[38;2;255;0;0m│\u001b[0m   \u001b[2m1380 \u001b[0m\u001b[2m│   │   \u001b[0m                                                                                  \u001b[38;2;255;0;0m│\u001b[0m\n",
       "\u001b[38;2;255;0;0m│\u001b[0m   \u001b[2m1381 \u001b[0m\u001b[2m│   │   \u001b[0m\u001b[94mwith\u001b[0m np.errstate(\u001b[96mall\u001b[0m=\u001b[33m\"\u001b[0m\u001b[33mignore\u001b[0m\u001b[33m\"\u001b[0m):                                                   \u001b[38;2;255;0;0m│\u001b[0m\n",
       "\u001b[38;2;255;0;0m│\u001b[0m \u001b[31m❱ \u001b[0m1382 \u001b[2m│   │   │   \u001b[0mresult = \u001b[1;4mops.arithmetic_op(lvalues, rvalues, op)\u001b[0m                              \u001b[38;2;255;0;0m│\u001b[0m\n",
       "\u001b[38;2;255;0;0m│\u001b[0m   \u001b[2m1383 \u001b[0m\u001b[2m│   │   \u001b[0m                                                                                  \u001b[38;2;255;0;0m│\u001b[0m\n",
       "\u001b[38;2;255;0;0m│\u001b[0m   \u001b[2m1384 \u001b[0m\u001b[2m│   │   \u001b[0m\u001b[94mreturn\u001b[0m \u001b[96mself\u001b[0m._construct_result(result, name=res_name)                              \u001b[38;2;255;0;0m│\u001b[0m\n",
       "\u001b[38;2;255;0;0m│\u001b[0m   \u001b[2m1385 \u001b[0m                                                                                          \u001b[38;2;255;0;0m│\u001b[0m\n",
       "\u001b[38;2;255;0;0m│\u001b[0m                                                                                                  \u001b[38;2;255;0;0m│\u001b[0m\n",
       "\u001b[38;2;255;0;0m│\u001b[0m \u001b[2;33m/opt/conda/lib/python3.12/site-packages/pandas/core/ops/\u001b[0m\u001b[1;33marray_ops.py\u001b[0m:\u001b[94m273\u001b[0m in \u001b[92marithmetic_op\u001b[0m        \u001b[38;2;255;0;0m│\u001b[0m\n",
       "\u001b[38;2;255;0;0m│\u001b[0m                                                                                                  \u001b[38;2;255;0;0m│\u001b[0m\n",
       "\u001b[38;2;255;0;0m│\u001b[0m   \u001b[2m270 \u001b[0m\u001b[2m│   \u001b[0m):                                                                                     \u001b[38;2;255;0;0m│\u001b[0m\n",
       "\u001b[38;2;255;0;0m│\u001b[0m   \u001b[2m271 \u001b[0m\u001b[2m│   │   \u001b[0m\u001b[2m# Timedelta/Timestamp and other custom scalars are included in the check\u001b[0m           \u001b[38;2;255;0;0m│\u001b[0m\n",
       "\u001b[38;2;255;0;0m│\u001b[0m   \u001b[2m272 \u001b[0m\u001b[2m│   │   \u001b[0m\u001b[2m# because numexpr will fail on it, see GH#31457\u001b[0m                                    \u001b[38;2;255;0;0m│\u001b[0m\n",
       "\u001b[38;2;255;0;0m│\u001b[0m \u001b[31m❱ \u001b[0m273 \u001b[2m│   │   \u001b[0mres_values = \u001b[1;4mop(left, right)\u001b[0m                                                       \u001b[38;2;255;0;0m│\u001b[0m\n",
       "\u001b[38;2;255;0;0m│\u001b[0m   \u001b[2m274 \u001b[0m\u001b[2m│   \u001b[0m\u001b[94melse\u001b[0m:                                                                                  \u001b[38;2;255;0;0m│\u001b[0m\n",
       "\u001b[38;2;255;0;0m│\u001b[0m   \u001b[2m275 \u001b[0m\u001b[2m│   │   \u001b[0m\u001b[2m# TODO we should handle EAs consistently and move this check before the if/else\u001b[0m    \u001b[38;2;255;0;0m│\u001b[0m\n",
       "\u001b[38;2;255;0;0m│\u001b[0m   \u001b[2m276 \u001b[0m\u001b[2m│   │   \u001b[0m\u001b[2m# (https://github.com/pandas-dev/pandas/issues/41165)\u001b[0m                              \u001b[38;2;255;0;0m│\u001b[0m\n",
       "\u001b[38;2;255;0;0m│\u001b[0m                                                                                                  \u001b[38;2;255;0;0m│\u001b[0m\n",
       "\u001b[38;2;255;0;0m│\u001b[0m \u001b[2;33m/opt/conda/lib/python3.12/site-packages/pandas/core/\u001b[0m\u001b[1;33mroperator.py\u001b[0m:\u001b[94m15\u001b[0m in \u001b[92mrsub\u001b[0m                      \u001b[38;2;255;0;0m│\u001b[0m\n",
       "\u001b[38;2;255;0;0m│\u001b[0m                                                                                                  \u001b[38;2;255;0;0m│\u001b[0m\n",
       "\u001b[38;2;255;0;0m│\u001b[0m   \u001b[2m12 \u001b[0m                                                                                            \u001b[38;2;255;0;0m│\u001b[0m\n",
       "\u001b[38;2;255;0;0m│\u001b[0m   \u001b[2m13 \u001b[0m                                                                                            \u001b[38;2;255;0;0m│\u001b[0m\n",
       "\u001b[38;2;255;0;0m│\u001b[0m   \u001b[2m14 \u001b[0m\u001b[94mdef\u001b[0m\u001b[90m \u001b[0m\u001b[92mrsub\u001b[0m(left, right):                                                                      \u001b[38;2;255;0;0m│\u001b[0m\n",
       "\u001b[38;2;255;0;0m│\u001b[0m \u001b[31m❱ \u001b[0m15 \u001b[2m│   \u001b[0m\u001b[94mreturn\u001b[0m \u001b[1;4mright - left\u001b[0m                                                                     \u001b[38;2;255;0;0m│\u001b[0m\n",
       "\u001b[38;2;255;0;0m│\u001b[0m   \u001b[2m16 \u001b[0m                                                                                            \u001b[38;2;255;0;0m│\u001b[0m\n",
       "\u001b[38;2;255;0;0m│\u001b[0m   \u001b[2m17 \u001b[0m                                                                                            \u001b[38;2;255;0;0m│\u001b[0m\n",
       "\u001b[38;2;255;0;0m│\u001b[0m   \u001b[2m18 \u001b[0m\u001b[94mdef\u001b[0m\u001b[90m \u001b[0m\u001b[92mrmul\u001b[0m(left, right):                                                                      \u001b[38;2;255;0;0m│\u001b[0m\n",
       "\u001b[38;2;255;0;0m╰──────────────────────────────────────────────────────────────────────────────────────────────────╯\u001b[0m\n",
       "\u001b[1;91mTypeError: \u001b[0munsupported operand \u001b[1;38;2;225;0;225mtype\u001b[0m\u001b[1m(\u001b[0ms\u001b[1m)\u001b[0m for -: \u001b[38;2;0;135;0m'Timestamp'\u001b[0m and \u001b[38;2;0;135;0m'str'\u001b[0m\n"
      ]
     },
     "metadata": {},
     "output_type": "display_data"
    }
   ],
   "source": [
    "print(\"Convert hire_date to datetime\")\n",
    "transform_df_encoded['hire_date'] = pd.to_datetime(transform_df_encoded['hire_date'], errors='coerce')\n",
    "print(transform_df_encoded['hire_date'].head())\n",
    "# print(transform_df_encoded.dtypes)\n",
    "print(\"Calculate Tenure in datys\")\n",
    "\n",
    "non_date_rows = transform_df_encoded[transform_df_encoded['hire_date'].apply(lambda x: isinstance(x, str))]\n",
    "print(\"non date rows:\")\n",
    "print(non_date_rows)\n",
    "\n",
    "transform_df_encoded['tenure_days'] = (pd.Timestamp('now') - df['hire_date']).dt.days"
   ]
  },
  {
   "cell_type": "markdown",
   "id": "3ee4adf8-b0e4-4bb6-983b-1ee7754fa7c7",
   "metadata": {},
   "source": [
    "### Step 5: Aggregation Features - Department Statistics  \n",
    "Create department-level aggregations for comparative analysis.  \n",
    "This enables understanding of department-wise patterns.  "
   ]
  },
  {
   "cell_type": "code",
   "execution_count": 30,
   "id": "b1783afe-aa59-41c5-b48f-e44040e821ae",
   "metadata": {
    "execution": {
     "iopub.execute_input": "2025-07-21T00:16:54.020712Z",
     "iopub.status.busy": "2025-07-21T00:16:54.020140Z",
     "iopub.status.idle": "2025-07-21T00:16:54.031518Z",
     "shell.execute_reply": "2025-07-21T00:16:54.030621Z",
     "shell.execute_reply.started": "2025-07-21T00:16:54.020664Z"
    }
   },
   "outputs": [
    {
     "name": "stdout",
     "output_type": "stream",
     "text": [
      "\n",
      "🔧 Creating Department Statistics...\n"
     ]
    }
   ],
   "source": [
    "print(\"\\n🔧 Creating Department Statistics...\")\n",
    "# Group by 'department' and calculate average salary and age\n",
    "department_summary_report = df.groupby('department').agg({\n",
    "    'salary': 'mean',\n",
    "    'age': 'mean'\n",
    "}).reset_index()\n",
    "\n",
    "# rename columns of department_summary_report for clarity\n",
    "department_summary_report.columns = ['Department', 'Average Salary', 'Average Age']"
   ]
  },
  {
   "cell_type": "code",
   "execution_count": 31,
   "id": "375b84ae-6bac-4654-b6ee-616982e3c26e",
   "metadata": {
    "execution": {
     "iopub.execute_input": "2025-07-21T00:16:54.033452Z",
     "iopub.status.busy": "2025-07-21T00:16:54.032830Z",
     "iopub.status.idle": "2025-07-21T00:16:54.039827Z",
     "shell.execute_reply": "2025-07-21T00:16:54.038857Z",
     "shell.execute_reply.started": "2025-07-21T00:16:54.033415Z"
    }
   },
   "outputs": [
    {
     "name": "stdout",
     "output_type": "stream",
     "text": [
      "Summary report of average salary and age based on the department:\n",
      "\n",
      "  Department  Average Salary  Average Age\n",
      "0    Finance    59830.035515    48.345256\n",
      "1         HR    60015.155342    48.620106\n",
      "2         IT    60034.499754    48.650074\n",
      "3  Marketing    60049.455984    48.419139\n",
      "4    Unknown    59939.954966    48.075056\n"
     ]
    }
   ],
   "source": [
    "# Print the Summary Report\n",
    "print(\"Summary report of average salary and age based on the department:\\n\")\n",
    "print(department_summary_report)"
   ]
  },
  {
   "cell_type": "markdown",
   "id": "51943479-aee6-4538-9ad4-1e6571d6a661",
   "metadata": {
    "jp-MarkdownHeadingCollapsed": true
   },
   "source": [
    "### Step 6: Data Quality Metrics\n",
    "Calculate data quality metrics for monitoring and MLOps.  \n",
    "These metrics help track data drift and quality over time.  \n"
   ]
  },
  {
   "cell_type": "code",
   "execution_count": 32,
   "id": "2c1a7779-1960-44d6-869a-3e52055a6fc3",
   "metadata": {
    "execution": {
     "iopub.execute_input": "2025-07-21T00:16:54.041546Z",
     "iopub.status.busy": "2025-07-21T00:16:54.040963Z",
     "iopub.status.idle": "2025-07-21T00:16:54.076237Z",
     "shell.execute_reply": "2025-07-21T00:16:54.075471Z",
     "shell.execute_reply.started": "2025-07-21T00:16:54.041513Z"
    }
   },
   "outputs": [
    {
     "name": "stdout",
     "output_type": "stream",
     "text": [
      "\n",
      "📊 Data Quality Metrics...\n",
      "Data Quality Metrics:\n",
      "  total_rows: 20000\n",
      "  total_columns: 13\n",
      "  missing_values_count: 10079\n",
      "  duplicate_rows: 0\n",
      "  numeric_columns: 6\n",
      "  categorical_columns: 5\n",
      "  unique_departments: 5\n",
      "  unique_age_groups: 5\n",
      "  unique_salary_categories: 2\n",
      "  processing_timestamp: 2025-07-21T00:16:54.071555\n"
     ]
    }
   ],
   "source": [
    "\n",
    "print(\"\\n📊 Data Quality Metrics...\")\n",
    "\n",
    "quality_metrics = {\n",
    "    'total_rows': len(transform_df),\n",
    "    'total_columns': len(transform_df.columns),\n",
    "    'missing_values_count': transform_df.isnull().sum().sum(),\n",
    "    'duplicate_rows': transform_df.duplicated().sum(),\n",
    "    'numeric_columns': len(transform_df.select_dtypes(include=[np.number]).columns),\n",
    "    'categorical_columns': len(transform_df.select_dtypes(include=['object']).columns),\n",
    "    'unique_departments': transform_df['department'].nunique(),\n",
    "    'unique_age_groups': transform_df['age_group'].nunique(),\n",
    "    'unique_salary_categories': transform_df['salary_category'].nunique(),\n",
    "    'processing_timestamp': datetime.now().isoformat()\n",
    "}\n",
    "\n",
    "print(\"Data Quality Metrics:\")\n",
    "for metric, value in quality_metrics.items():\n",
    "    print(f\"  {metric}: {value}\")"
   ]
  },
  {
   "cell_type": "markdown",
   "id": "fc636561-1dd7-464e-b908-de230785c662",
   "metadata": {
    "jp-MarkdownHeadingCollapsed": true
   },
   "source": [
    "### Step 7: Save the transformed DataFrame to a new csv file"
   ]
  },
  {
   "cell_type": "code",
   "execution_count": 33,
   "id": "effa94fc-c979-4bda-a3bd-fb00e38457ad",
   "metadata": {
    "execution": {
     "iopub.execute_input": "2025-07-21T00:16:54.077418Z",
     "iopub.status.busy": "2025-07-21T00:16:54.077107Z",
     "iopub.status.idle": "2025-07-21T00:16:54.329981Z",
     "shell.execute_reply": "2025-07-21T00:16:54.329255Z",
     "shell.execute_reply.started": "2025-07-21T00:16:54.077388Z"
    }
   },
   "outputs": [
    {
     "name": "stdout",
     "output_type": "stream",
     "text": [
      "Saving Transformed data csv to: 'data/transformed_data.csv' ...\n",
      "\n",
      "Transformed data csv saved to: 'data/transformed_data.csv'\n",
      "Transformed data 'transformed_data.csv' uploaded to: s3://sagemaker-us-east-1-910316760829/output/transformed_data.csv\n"
     ]
    }
   ],
   "source": [
    "print(\"Saving Transformed data csv to: 'data/transformed_data.csv' ...\")\n",
    "transform_df.to_csv(\"data/transformed_data.csv\", index=False)\n",
    "print(\"\\nTransformed data csv saved to: 'data/transformed_data.csv'\")\n",
    "\n",
    "s3.meta.client.upload_file('data/transformed_data.csv', bucket, 'output/transformed_data.csv')\n",
    "print(f\"Transformed data 'transformed_data.csv' uploaded to: s3://{bucket}/output/transformed_data.csv\")"
   ]
  },
  {
   "cell_type": "code",
   "execution_count": 34,
   "id": "8ec6fec1-9c65-446c-ac25-d24436689a40",
   "metadata": {
    "execution": {
     "iopub.execute_input": "2025-07-21T00:16:54.330985Z",
     "iopub.status.busy": "2025-07-21T00:16:54.330774Z",
     "iopub.status.idle": "2025-07-21T00:16:54.364774Z",
     "shell.execute_reply": "2025-07-21T00:16:54.363911Z",
     "shell.execute_reply.started": "2025-07-21T00:16:54.330966Z"
    }
   },
   "outputs": [
    {
     "name": "stdout",
     "output_type": "stream",
     "text": [
      "Saving department statistics...\n",
      "✅ Department statistics saved to: 'data/department_statistics.csv'\n",
      "Department Statistics 'department_statistics.csv' uploaded to: s3://sagemaker-us-east-1-910316760829/output/department_statistics.csv\n"
     ]
    }
   ],
   "source": [
    "### Step 2: Save Department Statistics\n",
    "print(\"Saving department statistics...\")\n",
    "department_summary_report.to_csv(\"data/department_statistics.csv\", index=False)\n",
    "print(\"✅ Department statistics saved to: 'data/department_statistics.csv'\")\n",
    "\n",
    "s3.meta.client.upload_file('data/department_statistics.csv', bucket, 'output/department_statistics.csv')\n",
    "print(f\"Department Statistics 'department_statistics.csv' uploaded to: s3://{bucket}/output/department_statistics.csv\")"
   ]
  },
  {
   "cell_type": "markdown",
   "id": "b5c2d6f8-27a3-43ad-9e83-fdbf92a2fe23",
   "metadata": {
    "jp-MarkdownHeadingCollapsed": true
   },
   "source": [
    "## 5. Next Steps for MLOps"
   ]
  },
  {
   "cell_type": "code",
   "execution_count": 35,
   "id": "e3ab1b76-7e48-4105-8720-f35ed5584607",
   "metadata": {
    "execution": {
     "iopub.execute_input": "2025-07-21T00:16:54.366200Z",
     "iopub.status.busy": "2025-07-21T00:16:54.365565Z",
     "iopub.status.idle": "2025-07-21T00:16:54.372309Z",
     "shell.execute_reply": "2025-07-21T00:16:54.371602Z",
     "shell.execute_reply.started": "2025-07-21T00:16:54.366176Z"
    }
   },
   "outputs": [
    {
     "name": "stdout",
     "output_type": "stream",
     "text": [
      "\n",
      "🎯 Next Steps for MLOps:\n",
      "  1. Model training using transformed features\n",
      "  2. Model validation and testing\n",
      "  3. Model deployment and monitoring\n",
      "  4. Data drift monitoring using quality metrics\n",
      "  5. Pipeline automation and orchestration\n",
      "\n",
      "==================================================\n",
      "🎉 DATA TRANSFORMATION PIPELINE COMPLETE!\n",
      "==================================================\n"
     ]
    }
   ],
   "source": [
    "print(f\"\\n🎯 Next Steps for MLOps:\")\n",
    "print(f\"  1. Model training using transformed features\")\n",
    "print(f\"  2. Model validation and testing\")\n",
    "print(f\"  3. Model deployment and monitoring\")\n",
    "print(f\"  4. Data drift monitoring using quality metrics\")\n",
    "print(f\"  5. Pipeline automation and orchestration\")\n",
    "\n",
    "print(\"\\n\" + \"=\"*50)\n",
    "print(\"🎉 DATA TRANSFORMATION PIPELINE COMPLETE!\")\n",
    "print(\"=\"*50)"
   ]
  }
 ],
 "metadata": {
  "kernelspec": {
   "display_name": "Python 3 (ipykernel)",
   "language": "python",
   "name": "python3"
  },
  "language_info": {
   "codemirror_mode": {
    "name": "ipython",
    "version": 3
   },
   "file_extension": ".py",
   "mimetype": "text/x-python",
   "name": "python",
   "nbconvert_exporter": "python",
   "pygments_lexer": "ipython3",
   "version": "3.12.9"
  }
 },
 "nbformat": 4,
 "nbformat_minor": 5
}
